{
 "cells": [
  {
   "cell_type": "code",
   "execution_count": 3,
   "metadata": {},
   "outputs": [],
   "source": [
    "import numpy as np\n",
    "import matplotlib.pyplot as plt\n",
    "import pandas as pd"
   ]
  },
  {
   "cell_type": "code",
   "execution_count": 4,
   "metadata": {},
   "outputs": [],
   "source": [
    "dataset = pd.read_csv('Churn_Modelling.csv')\n",
    "X = dataset.iloc[:, 3:13]\n",
    "y = dataset.iloc[:, 13]"
   ]
  },
  {
   "cell_type": "code",
   "execution_count": 3,
   "metadata": {},
   "outputs": [
    {
     "data": {
      "text/html": [
       "<div>\n",
       "<style scoped>\n",
       "    .dataframe tbody tr th:only-of-type {\n",
       "        vertical-align: middle;\n",
       "    }\n",
       "\n",
       "    .dataframe tbody tr th {\n",
       "        vertical-align: top;\n",
       "    }\n",
       "\n",
       "    .dataframe thead th {\n",
       "        text-align: right;\n",
       "    }\n",
       "</style>\n",
       "<table border=\"1\" class=\"dataframe\">\n",
       "  <thead>\n",
       "    <tr style=\"text-align: right;\">\n",
       "      <th></th>\n",
       "      <th>RowNumber</th>\n",
       "      <th>CustomerId</th>\n",
       "      <th>Surname</th>\n",
       "      <th>CreditScore</th>\n",
       "      <th>Geography</th>\n",
       "      <th>Gender</th>\n",
       "      <th>Age</th>\n",
       "      <th>Tenure</th>\n",
       "      <th>Balance</th>\n",
       "      <th>NumOfProducts</th>\n",
       "      <th>HasCrCard</th>\n",
       "      <th>IsActiveMember</th>\n",
       "      <th>EstimatedSalary</th>\n",
       "      <th>Exited</th>\n",
       "    </tr>\n",
       "  </thead>\n",
       "  <tbody>\n",
       "    <tr>\n",
       "      <th>0</th>\n",
       "      <td>1</td>\n",
       "      <td>15634602</td>\n",
       "      <td>Hargrave</td>\n",
       "      <td>619</td>\n",
       "      <td>France</td>\n",
       "      <td>Female</td>\n",
       "      <td>42</td>\n",
       "      <td>2</td>\n",
       "      <td>0.00</td>\n",
       "      <td>1</td>\n",
       "      <td>1</td>\n",
       "      <td>1</td>\n",
       "      <td>101348.88</td>\n",
       "      <td>1</td>\n",
       "    </tr>\n",
       "    <tr>\n",
       "      <th>1</th>\n",
       "      <td>2</td>\n",
       "      <td>15647311</td>\n",
       "      <td>Hill</td>\n",
       "      <td>608</td>\n",
       "      <td>Spain</td>\n",
       "      <td>Female</td>\n",
       "      <td>41</td>\n",
       "      <td>1</td>\n",
       "      <td>83807.86</td>\n",
       "      <td>1</td>\n",
       "      <td>0</td>\n",
       "      <td>1</td>\n",
       "      <td>112542.58</td>\n",
       "      <td>0</td>\n",
       "    </tr>\n",
       "    <tr>\n",
       "      <th>2</th>\n",
       "      <td>3</td>\n",
       "      <td>15619304</td>\n",
       "      <td>Onio</td>\n",
       "      <td>502</td>\n",
       "      <td>France</td>\n",
       "      <td>Female</td>\n",
       "      <td>42</td>\n",
       "      <td>8</td>\n",
       "      <td>159660.80</td>\n",
       "      <td>3</td>\n",
       "      <td>1</td>\n",
       "      <td>0</td>\n",
       "      <td>113931.57</td>\n",
       "      <td>1</td>\n",
       "    </tr>\n",
       "    <tr>\n",
       "      <th>3</th>\n",
       "      <td>4</td>\n",
       "      <td>15701354</td>\n",
       "      <td>Boni</td>\n",
       "      <td>699</td>\n",
       "      <td>France</td>\n",
       "      <td>Female</td>\n",
       "      <td>39</td>\n",
       "      <td>1</td>\n",
       "      <td>0.00</td>\n",
       "      <td>2</td>\n",
       "      <td>0</td>\n",
       "      <td>0</td>\n",
       "      <td>93826.63</td>\n",
       "      <td>0</td>\n",
       "    </tr>\n",
       "    <tr>\n",
       "      <th>4</th>\n",
       "      <td>5</td>\n",
       "      <td>15737888</td>\n",
       "      <td>Mitchell</td>\n",
       "      <td>850</td>\n",
       "      <td>Spain</td>\n",
       "      <td>Female</td>\n",
       "      <td>43</td>\n",
       "      <td>2</td>\n",
       "      <td>125510.82</td>\n",
       "      <td>1</td>\n",
       "      <td>1</td>\n",
       "      <td>1</td>\n",
       "      <td>79084.10</td>\n",
       "      <td>0</td>\n",
       "    </tr>\n",
       "  </tbody>\n",
       "</table>\n",
       "</div>"
      ],
      "text/plain": [
       "   RowNumber  CustomerId   Surname  CreditScore Geography  Gender  Age  \\\n",
       "0          1    15634602  Hargrave          619    France  Female   42   \n",
       "1          2    15647311      Hill          608     Spain  Female   41   \n",
       "2          3    15619304      Onio          502    France  Female   42   \n",
       "3          4    15701354      Boni          699    France  Female   39   \n",
       "4          5    15737888  Mitchell          850     Spain  Female   43   \n",
       "\n",
       "   Tenure    Balance  NumOfProducts  HasCrCard  IsActiveMember  \\\n",
       "0       2       0.00              1          1               1   \n",
       "1       1   83807.86              1          0               1   \n",
       "2       8  159660.80              3          1               0   \n",
       "3       1       0.00              2          0               0   \n",
       "4       2  125510.82              1          1               1   \n",
       "\n",
       "   EstimatedSalary  Exited  \n",
       "0        101348.88       1  \n",
       "1        112542.58       0  \n",
       "2        113931.57       1  \n",
       "3         93826.63       0  \n",
       "4         79084.10       0  "
      ]
     },
     "execution_count": 3,
     "metadata": {},
     "output_type": "execute_result"
    }
   ],
   "source": [
    "dataset.head()"
   ]
  },
  {
   "cell_type": "code",
   "execution_count": 5,
   "metadata": {
    "scrolled": true
   },
   "outputs": [
    {
     "data": {
      "text/html": [
       "<div>\n",
       "<style scoped>\n",
       "    .dataframe tbody tr th:only-of-type {\n",
       "        vertical-align: middle;\n",
       "    }\n",
       "\n",
       "    .dataframe tbody tr th {\n",
       "        vertical-align: top;\n",
       "    }\n",
       "\n",
       "    .dataframe thead th {\n",
       "        text-align: right;\n",
       "    }\n",
       "</style>\n",
       "<table border=\"1\" class=\"dataframe\">\n",
       "  <thead>\n",
       "    <tr style=\"text-align: right;\">\n",
       "      <th></th>\n",
       "      <th>CreditScore</th>\n",
       "      <th>Geography</th>\n",
       "      <th>Gender</th>\n",
       "      <th>Age</th>\n",
       "      <th>Tenure</th>\n",
       "      <th>Balance</th>\n",
       "      <th>NumOfProducts</th>\n",
       "      <th>HasCrCard</th>\n",
       "      <th>IsActiveMember</th>\n",
       "      <th>EstimatedSalary</th>\n",
       "    </tr>\n",
       "  </thead>\n",
       "  <tbody>\n",
       "    <tr>\n",
       "      <th>0</th>\n",
       "      <td>619</td>\n",
       "      <td>France</td>\n",
       "      <td>Female</td>\n",
       "      <td>42</td>\n",
       "      <td>2</td>\n",
       "      <td>0.00</td>\n",
       "      <td>1</td>\n",
       "      <td>1</td>\n",
       "      <td>1</td>\n",
       "      <td>101348.88</td>\n",
       "    </tr>\n",
       "    <tr>\n",
       "      <th>1</th>\n",
       "      <td>608</td>\n",
       "      <td>Spain</td>\n",
       "      <td>Female</td>\n",
       "      <td>41</td>\n",
       "      <td>1</td>\n",
       "      <td>83807.86</td>\n",
       "      <td>1</td>\n",
       "      <td>0</td>\n",
       "      <td>1</td>\n",
       "      <td>112542.58</td>\n",
       "    </tr>\n",
       "    <tr>\n",
       "      <th>2</th>\n",
       "      <td>502</td>\n",
       "      <td>France</td>\n",
       "      <td>Female</td>\n",
       "      <td>42</td>\n",
       "      <td>8</td>\n",
       "      <td>159660.80</td>\n",
       "      <td>3</td>\n",
       "      <td>1</td>\n",
       "      <td>0</td>\n",
       "      <td>113931.57</td>\n",
       "    </tr>\n",
       "    <tr>\n",
       "      <th>3</th>\n",
       "      <td>699</td>\n",
       "      <td>France</td>\n",
       "      <td>Female</td>\n",
       "      <td>39</td>\n",
       "      <td>1</td>\n",
       "      <td>0.00</td>\n",
       "      <td>2</td>\n",
       "      <td>0</td>\n",
       "      <td>0</td>\n",
       "      <td>93826.63</td>\n",
       "    </tr>\n",
       "    <tr>\n",
       "      <th>4</th>\n",
       "      <td>850</td>\n",
       "      <td>Spain</td>\n",
       "      <td>Female</td>\n",
       "      <td>43</td>\n",
       "      <td>2</td>\n",
       "      <td>125510.82</td>\n",
       "      <td>1</td>\n",
       "      <td>1</td>\n",
       "      <td>1</td>\n",
       "      <td>79084.10</td>\n",
       "    </tr>\n",
       "  </tbody>\n",
       "</table>\n",
       "</div>"
      ],
      "text/plain": [
       "   CreditScore Geography  Gender  Age  Tenure    Balance  NumOfProducts  \\\n",
       "0          619    France  Female   42       2       0.00              1   \n",
       "1          608     Spain  Female   41       1   83807.86              1   \n",
       "2          502    France  Female   42       8  159660.80              3   \n",
       "3          699    France  Female   39       1       0.00              2   \n",
       "4          850     Spain  Female   43       2  125510.82              1   \n",
       "\n",
       "   HasCrCard  IsActiveMember  EstimatedSalary  \n",
       "0          1               1        101348.88  \n",
       "1          0               1        112542.58  \n",
       "2          1               0        113931.57  \n",
       "3          0               0         93826.63  \n",
       "4          1               1         79084.10  "
      ]
     },
     "execution_count": 5,
     "metadata": {},
     "output_type": "execute_result"
    }
   ],
   "source": [
    "X.head()"
   ]
  },
  {
   "cell_type": "code",
   "execution_count": 6,
   "metadata": {
    "scrolled": true
   },
   "outputs": [
    {
     "data": {
      "text/plain": [
       "0    1\n",
       "1    0\n",
       "2    1\n",
       "3    0\n",
       "4    0\n",
       "Name: Exited, dtype: int64"
      ]
     },
     "execution_count": 6,
     "metadata": {},
     "output_type": "execute_result"
    }
   ],
   "source": [
    "y.head()"
   ]
  },
  {
   "cell_type": "code",
   "execution_count": 29,
   "metadata": {
    "scrolled": true
   },
   "outputs": [
    {
     "data": {
      "text/plain": [
       "0    7963\n",
       "1    2037\n",
       "Name: Exited, dtype: int64"
      ]
     },
     "execution_count": 29,
     "metadata": {},
     "output_type": "execute_result"
    }
   ],
   "source": [
    "y.value_counts()"
   ]
  },
  {
   "cell_type": "code",
   "execution_count": 6,
   "metadata": {},
   "outputs": [],
   "source": [
    "geography=pd.get_dummies(X[\"Geography\"],drop_first=True)\n",
    "gender=pd.get_dummies(X['Gender'],drop_first=True)"
   ]
  },
  {
   "cell_type": "code",
   "execution_count": 7,
   "metadata": {},
   "outputs": [],
   "source": [
    "X=pd.concat([X,geography,gender],axis=1)"
   ]
  },
  {
   "cell_type": "code",
   "execution_count": 9,
   "metadata": {},
   "outputs": [
    {
     "data": {
      "text/html": [
       "<div>\n",
       "<style scoped>\n",
       "    .dataframe tbody tr th:only-of-type {\n",
       "        vertical-align: middle;\n",
       "    }\n",
       "\n",
       "    .dataframe tbody tr th {\n",
       "        vertical-align: top;\n",
       "    }\n",
       "\n",
       "    .dataframe thead th {\n",
       "        text-align: right;\n",
       "    }\n",
       "</style>\n",
       "<table border=\"1\" class=\"dataframe\">\n",
       "  <thead>\n",
       "    <tr style=\"text-align: right;\">\n",
       "      <th></th>\n",
       "      <th>CreditScore</th>\n",
       "      <th>Geography</th>\n",
       "      <th>Gender</th>\n",
       "      <th>Age</th>\n",
       "      <th>Tenure</th>\n",
       "      <th>Balance</th>\n",
       "      <th>NumOfProducts</th>\n",
       "      <th>HasCrCard</th>\n",
       "      <th>IsActiveMember</th>\n",
       "      <th>EstimatedSalary</th>\n",
       "      <th>Germany</th>\n",
       "      <th>Spain</th>\n",
       "      <th>Male</th>\n",
       "    </tr>\n",
       "  </thead>\n",
       "  <tbody>\n",
       "    <tr>\n",
       "      <th>0</th>\n",
       "      <td>619</td>\n",
       "      <td>France</td>\n",
       "      <td>Female</td>\n",
       "      <td>42</td>\n",
       "      <td>2</td>\n",
       "      <td>0.00</td>\n",
       "      <td>1</td>\n",
       "      <td>1</td>\n",
       "      <td>1</td>\n",
       "      <td>101348.88</td>\n",
       "      <td>0</td>\n",
       "      <td>0</td>\n",
       "      <td>0</td>\n",
       "    </tr>\n",
       "    <tr>\n",
       "      <th>1</th>\n",
       "      <td>608</td>\n",
       "      <td>Spain</td>\n",
       "      <td>Female</td>\n",
       "      <td>41</td>\n",
       "      <td>1</td>\n",
       "      <td>83807.86</td>\n",
       "      <td>1</td>\n",
       "      <td>0</td>\n",
       "      <td>1</td>\n",
       "      <td>112542.58</td>\n",
       "      <td>0</td>\n",
       "      <td>1</td>\n",
       "      <td>0</td>\n",
       "    </tr>\n",
       "    <tr>\n",
       "      <th>2</th>\n",
       "      <td>502</td>\n",
       "      <td>France</td>\n",
       "      <td>Female</td>\n",
       "      <td>42</td>\n",
       "      <td>8</td>\n",
       "      <td>159660.80</td>\n",
       "      <td>3</td>\n",
       "      <td>1</td>\n",
       "      <td>0</td>\n",
       "      <td>113931.57</td>\n",
       "      <td>0</td>\n",
       "      <td>0</td>\n",
       "      <td>0</td>\n",
       "    </tr>\n",
       "    <tr>\n",
       "      <th>3</th>\n",
       "      <td>699</td>\n",
       "      <td>France</td>\n",
       "      <td>Female</td>\n",
       "      <td>39</td>\n",
       "      <td>1</td>\n",
       "      <td>0.00</td>\n",
       "      <td>2</td>\n",
       "      <td>0</td>\n",
       "      <td>0</td>\n",
       "      <td>93826.63</td>\n",
       "      <td>0</td>\n",
       "      <td>0</td>\n",
       "      <td>0</td>\n",
       "    </tr>\n",
       "    <tr>\n",
       "      <th>4</th>\n",
       "      <td>850</td>\n",
       "      <td>Spain</td>\n",
       "      <td>Female</td>\n",
       "      <td>43</td>\n",
       "      <td>2</td>\n",
       "      <td>125510.82</td>\n",
       "      <td>1</td>\n",
       "      <td>1</td>\n",
       "      <td>1</td>\n",
       "      <td>79084.10</td>\n",
       "      <td>0</td>\n",
       "      <td>1</td>\n",
       "      <td>0</td>\n",
       "    </tr>\n",
       "  </tbody>\n",
       "</table>\n",
       "</div>"
      ],
      "text/plain": [
       "   CreditScore Geography  Gender  Age  Tenure    Balance  NumOfProducts  \\\n",
       "0          619    France  Female   42       2       0.00              1   \n",
       "1          608     Spain  Female   41       1   83807.86              1   \n",
       "2          502    France  Female   42       8  159660.80              3   \n",
       "3          699    France  Female   39       1       0.00              2   \n",
       "4          850     Spain  Female   43       2  125510.82              1   \n",
       "\n",
       "   HasCrCard  IsActiveMember  EstimatedSalary  Germany  Spain  Male  \n",
       "0          1               1        101348.88        0      0     0  \n",
       "1          0               1        112542.58        0      1     0  \n",
       "2          1               0        113931.57        0      0     0  \n",
       "3          0               0         93826.63        0      0     0  \n",
       "4          1               1         79084.10        0      1     0  "
      ]
     },
     "execution_count": 9,
     "metadata": {},
     "output_type": "execute_result"
    }
   ],
   "source": [
    "X.head()"
   ]
  },
  {
   "cell_type": "code",
   "execution_count": 8,
   "metadata": {},
   "outputs": [],
   "source": [
    "X=X.drop(['Geography','Gender'],axis=1)"
   ]
  },
  {
   "cell_type": "code",
   "execution_count": 9,
   "metadata": {},
   "outputs": [
    {
     "data": {
      "text/html": [
       "<div>\n",
       "<style scoped>\n",
       "    .dataframe tbody tr th:only-of-type {\n",
       "        vertical-align: middle;\n",
       "    }\n",
       "\n",
       "    .dataframe tbody tr th {\n",
       "        vertical-align: top;\n",
       "    }\n",
       "\n",
       "    .dataframe thead th {\n",
       "        text-align: right;\n",
       "    }\n",
       "</style>\n",
       "<table border=\"1\" class=\"dataframe\">\n",
       "  <thead>\n",
       "    <tr style=\"text-align: right;\">\n",
       "      <th></th>\n",
       "      <th>CreditScore</th>\n",
       "      <th>Age</th>\n",
       "      <th>Tenure</th>\n",
       "      <th>Balance</th>\n",
       "      <th>NumOfProducts</th>\n",
       "      <th>HasCrCard</th>\n",
       "      <th>IsActiveMember</th>\n",
       "      <th>EstimatedSalary</th>\n",
       "      <th>Germany</th>\n",
       "      <th>Spain</th>\n",
       "      <th>Male</th>\n",
       "    </tr>\n",
       "  </thead>\n",
       "  <tbody>\n",
       "    <tr>\n",
       "      <th>0</th>\n",
       "      <td>619</td>\n",
       "      <td>42</td>\n",
       "      <td>2</td>\n",
       "      <td>0.00</td>\n",
       "      <td>1</td>\n",
       "      <td>1</td>\n",
       "      <td>1</td>\n",
       "      <td>101348.88</td>\n",
       "      <td>0</td>\n",
       "      <td>0</td>\n",
       "      <td>0</td>\n",
       "    </tr>\n",
       "    <tr>\n",
       "      <th>1</th>\n",
       "      <td>608</td>\n",
       "      <td>41</td>\n",
       "      <td>1</td>\n",
       "      <td>83807.86</td>\n",
       "      <td>1</td>\n",
       "      <td>0</td>\n",
       "      <td>1</td>\n",
       "      <td>112542.58</td>\n",
       "      <td>0</td>\n",
       "      <td>1</td>\n",
       "      <td>0</td>\n",
       "    </tr>\n",
       "    <tr>\n",
       "      <th>2</th>\n",
       "      <td>502</td>\n",
       "      <td>42</td>\n",
       "      <td>8</td>\n",
       "      <td>159660.80</td>\n",
       "      <td>3</td>\n",
       "      <td>1</td>\n",
       "      <td>0</td>\n",
       "      <td>113931.57</td>\n",
       "      <td>0</td>\n",
       "      <td>0</td>\n",
       "      <td>0</td>\n",
       "    </tr>\n",
       "    <tr>\n",
       "      <th>3</th>\n",
       "      <td>699</td>\n",
       "      <td>39</td>\n",
       "      <td>1</td>\n",
       "      <td>0.00</td>\n",
       "      <td>2</td>\n",
       "      <td>0</td>\n",
       "      <td>0</td>\n",
       "      <td>93826.63</td>\n",
       "      <td>0</td>\n",
       "      <td>0</td>\n",
       "      <td>0</td>\n",
       "    </tr>\n",
       "    <tr>\n",
       "      <th>4</th>\n",
       "      <td>850</td>\n",
       "      <td>43</td>\n",
       "      <td>2</td>\n",
       "      <td>125510.82</td>\n",
       "      <td>1</td>\n",
       "      <td>1</td>\n",
       "      <td>1</td>\n",
       "      <td>79084.10</td>\n",
       "      <td>0</td>\n",
       "      <td>1</td>\n",
       "      <td>0</td>\n",
       "    </tr>\n",
       "  </tbody>\n",
       "</table>\n",
       "</div>"
      ],
      "text/plain": [
       "   CreditScore  Age  Tenure    Balance  NumOfProducts  HasCrCard  \\\n",
       "0          619   42       2       0.00              1          1   \n",
       "1          608   41       1   83807.86              1          0   \n",
       "2          502   42       8  159660.80              3          1   \n",
       "3          699   39       1       0.00              2          0   \n",
       "4          850   43       2  125510.82              1          1   \n",
       "\n",
       "   IsActiveMember  EstimatedSalary  Germany  Spain  Male  \n",
       "0               1        101348.88        0      0     0  \n",
       "1               1        112542.58        0      1     0  \n",
       "2               0        113931.57        0      0     0  \n",
       "3               0         93826.63        0      0     0  \n",
       "4               1         79084.10        0      1     0  "
      ]
     },
     "execution_count": 9,
     "metadata": {},
     "output_type": "execute_result"
    }
   ],
   "source": [
    "X.head()"
   ]
  },
  {
   "cell_type": "code",
   "execution_count": 10,
   "metadata": {},
   "outputs": [],
   "source": [
    "from sklearn.model_selection import train_test_split\n",
    "X_train, X_test, y_train, y_test = train_test_split(X, y, test_size = 0.2, random_state = 0)"
   ]
  },
  {
   "cell_type": "code",
   "execution_count": 12,
   "metadata": {},
   "outputs": [],
   "source": [
    "from sklearn.preprocessing import StandardScaler\n",
    "sc = StandardScaler()\n",
    "X_train = sc.fit_transform(X_train)\n",
    "X_test = sc.transform(X_test)"
   ]
  },
  {
   "cell_type": "code",
   "execution_count": 14,
   "metadata": {},
   "outputs": [],
   "source": [
    "import keras\n",
    "from keras.models import Sequential\n",
    "from keras.layers import Dense\n",
    "from keras.layers import LeakyReLU,PReLU,ELU\n",
    "from keras.layers import Dropout"
   ]
  },
  {
   "cell_type": "code",
   "execution_count": 15,
   "metadata": {
    "scrolled": true
   },
   "outputs": [],
   "source": [
    "classifier = Sequential()\n",
    "classifier.add(Dense(6, kernel_initializer = 'he_uniform',activation='relu',input_dim = 11))\n",
    "classifier.add(Dense(6, kernel_initializer = 'he_uniform',activation='relu'))\n",
    "classifier.add(Dense(1, kernel_initializer = 'glorot_uniform', activation = 'sigmoid'))\n",
    "classifier.compile(optimizer = 'Adamax', loss = 'binary_crossentropy', metrics = ['accuracy'])"
   ]
  },
  {
   "cell_type": "code",
   "execution_count": 16,
   "metadata": {},
   "outputs": [
    {
     "name": "stdout",
     "output_type": "stream",
     "text": [
      "Model: \"sequential\"\n",
      "_________________________________________________________________\n",
      "Layer (type)                 Output Shape              Param #   \n",
      "=================================================================\n",
      "dense (Dense)                (None, 6)                 72        \n",
      "_________________________________________________________________\n",
      "dense_1 (Dense)              (None, 6)                 42        \n",
      "_________________________________________________________________\n",
      "dense_2 (Dense)              (None, 1)                 7         \n",
      "=================================================================\n",
      "Total params: 121\n",
      "Trainable params: 121\n",
      "Non-trainable params: 0\n",
      "_________________________________________________________________\n"
     ]
    }
   ],
   "source": [
    "classifier.summary()"
   ]
  },
  {
   "cell_type": "code",
   "execution_count": 17,
   "metadata": {},
   "outputs": [
    {
     "name": "stdout",
     "output_type": "stream",
     "text": [
      "Epoch 1/100\n",
      "536/536 [==============================] - 9s 1ms/step - loss: 0.5448 - accuracy: 0.7928 - val_loss: 0.5072 - val_accuracy: 0.7955\n",
      "Epoch 2/100\n",
      "536/536 [==============================] - 0s 804us/step - loss: 0.4963 - accuracy: 0.7915 - val_loss: 0.4836 - val_accuracy: 0.7955\n",
      "Epoch 3/100\n",
      "536/536 [==============================] - 0s 784us/step - loss: 0.4812 - accuracy: 0.7947 - val_loss: 0.4717 - val_accuracy: 0.7955\n",
      "Epoch 4/100\n",
      "536/536 [==============================] - 0s 772us/step - loss: 0.4664 - accuracy: 0.8005 - val_loss: 0.4643 - val_accuracy: 0.7955\n",
      "Epoch 5/100\n",
      "536/536 [==============================] - 0s 766us/step - loss: 0.4493 - accuracy: 0.7989 - val_loss: 0.4592 - val_accuracy: 0.7955\n",
      "Epoch 6/100\n",
      "536/536 [==============================] - 0s 775us/step - loss: 0.4551 - accuracy: 0.7916 - val_loss: 0.4552 - val_accuracy: 0.7955\n",
      "Epoch 7/100\n",
      "536/536 [==============================] - 0s 776us/step - loss: 0.4451 - accuracy: 0.7957 - val_loss: 0.4525 - val_accuracy: 0.7955\n",
      "Epoch 8/100\n",
      "536/536 [==============================] - 0s 773us/step - loss: 0.4470 - accuracy: 0.7918 - val_loss: 0.4499 - val_accuracy: 0.7955\n",
      "Epoch 9/100\n",
      "536/536 [==============================] - 0s 793us/step - loss: 0.4420 - accuracy: 0.7956 - val_loss: 0.4479 - val_accuracy: 0.7955\n",
      "Epoch 10/100\n",
      "536/536 [==============================] - 0s 785us/step - loss: 0.4406 - accuracy: 0.7939 - val_loss: 0.4462 - val_accuracy: 0.7955\n",
      "Epoch 11/100\n",
      "536/536 [==============================] - 0s 778us/step - loss: 0.4393 - accuracy: 0.7916 - val_loss: 0.4447 - val_accuracy: 0.7955\n",
      "Epoch 12/100\n",
      "536/536 [==============================] - 0s 782us/step - loss: 0.4433 - accuracy: 0.7977 - val_loss: 0.4436 - val_accuracy: 0.7955\n",
      "Epoch 13/100\n",
      "536/536 [==============================] - 0s 790us/step - loss: 0.4472 - accuracy: 0.7968 - val_loss: 0.4428 - val_accuracy: 0.7955\n",
      "Epoch 14/100\n",
      "536/536 [==============================] - 0s 784us/step - loss: 0.4496 - accuracy: 0.7889 - val_loss: 0.4419 - val_accuracy: 0.7955\n",
      "Epoch 15/100\n",
      "536/536 [==============================] - 0s 790us/step - loss: 0.4294 - accuracy: 0.7997 - val_loss: 0.4413 - val_accuracy: 0.7955\n",
      "Epoch 16/100\n",
      "536/536 [==============================] - 0s 779us/step - loss: 0.4462 - accuracy: 0.7886 - val_loss: 0.4406 - val_accuracy: 0.7955\n",
      "Epoch 17/100\n",
      "536/536 [==============================] - 0s 785us/step - loss: 0.4282 - accuracy: 0.7952 - val_loss: 0.4402 - val_accuracy: 0.7959\n",
      "Epoch 18/100\n",
      "536/536 [==============================] - 1s 956us/step - loss: 0.4304 - accuracy: 0.7910 - val_loss: 0.4395 - val_accuracy: 0.7959\n",
      "Epoch 19/100\n",
      "536/536 [==============================] - 1s 1ms/step - loss: 0.4299 - accuracy: 0.7932 - val_loss: 0.4389 - val_accuracy: 0.7959\n",
      "Epoch 20/100\n",
      "536/536 [==============================] - 1s 1ms/step - loss: 0.4356 - accuracy: 0.7919 - val_loss: 0.4384 - val_accuracy: 0.7959\n",
      "Epoch 21/100\n",
      "536/536 [==============================] - 0s 856us/step - loss: 0.4303 - accuracy: 0.7990 - val_loss: 0.4378 - val_accuracy: 0.7963\n",
      "Epoch 22/100\n",
      "536/536 [==============================] - 0s 775us/step - loss: 0.4335 - accuracy: 0.7898 - val_loss: 0.4373 - val_accuracy: 0.7959\n",
      "Epoch 23/100\n",
      "536/536 [==============================] - 0s 776us/step - loss: 0.4351 - accuracy: 0.7961 - val_loss: 0.4369 - val_accuracy: 0.7955\n",
      "Epoch 24/100\n",
      "536/536 [==============================] - 0s 801us/step - loss: 0.4498 - accuracy: 0.7822 - val_loss: 0.4365 - val_accuracy: 0.7959\n",
      "Epoch 25/100\n",
      "536/536 [==============================] - 0s 839us/step - loss: 0.4299 - accuracy: 0.7956 - val_loss: 0.4360 - val_accuracy: 0.7955\n",
      "Epoch 26/100\n",
      "536/536 [==============================] - 0s 786us/step - loss: 0.4238 - accuracy: 0.8031 - val_loss: 0.4356 - val_accuracy: 0.7967\n",
      "Epoch 27/100\n",
      "536/536 [==============================] - 0s 778us/step - loss: 0.4349 - accuracy: 0.8123 - val_loss: 0.4353 - val_accuracy: 0.8042\n",
      "Epoch 28/100\n",
      "536/536 [==============================] - 0s 790us/step - loss: 0.4188 - accuracy: 0.8162 - val_loss: 0.4350 - val_accuracy: 0.8065\n",
      "Epoch 29/100\n",
      "536/536 [==============================] - 0s 774us/step - loss: 0.4306 - accuracy: 0.8165 - val_loss: 0.4345 - val_accuracy: 0.8061\n",
      "Epoch 30/100\n",
      "536/536 [==============================] - 0s 801us/step - loss: 0.4248 - accuracy: 0.8169 - val_loss: 0.4342 - val_accuracy: 0.8061\n",
      "Epoch 31/100\n",
      "536/536 [==============================] - 0s 780us/step - loss: 0.4182 - accuracy: 0.8170 - val_loss: 0.4339 - val_accuracy: 0.8069\n",
      "Epoch 32/100\n",
      "536/536 [==============================] - 0s 772us/step - loss: 0.4234 - accuracy: 0.8120 - val_loss: 0.4334 - val_accuracy: 0.8069\n",
      "Epoch 33/100\n",
      "536/536 [==============================] - 0s 788us/step - loss: 0.4217 - accuracy: 0.8110 - val_loss: 0.4330 - val_accuracy: 0.8069\n",
      "Epoch 34/100\n",
      "536/536 [==============================] - 0s 793us/step - loss: 0.4471 - accuracy: 0.8029 - val_loss: 0.4326 - val_accuracy: 0.8073\n",
      "Epoch 35/100\n",
      "536/536 [==============================] - 0s 800us/step - loss: 0.4222 - accuracy: 0.8189 - val_loss: 0.4322 - val_accuracy: 0.8076\n",
      "Epoch 36/100\n",
      "536/536 [==============================] - 0s 791us/step - loss: 0.4329 - accuracy: 0.8069 - val_loss: 0.4319 - val_accuracy: 0.8084\n",
      "Epoch 37/100\n",
      "536/536 [==============================] - 0s 765us/step - loss: 0.4313 - accuracy: 0.8119 - val_loss: 0.4317 - val_accuracy: 0.8080\n",
      "Epoch 38/100\n",
      "536/536 [==============================] - 0s 769us/step - loss: 0.4244 - accuracy: 0.8121 - val_loss: 0.4314 - val_accuracy: 0.8088\n",
      "Epoch 39/100\n",
      "536/536 [==============================] - 0s 768us/step - loss: 0.4363 - accuracy: 0.8086 - val_loss: 0.4309 - val_accuracy: 0.8080\n",
      "Epoch 40/100\n",
      "536/536 [==============================] - 0s 808us/step - loss: 0.4167 - accuracy: 0.8138 - val_loss: 0.4303 - val_accuracy: 0.8095\n",
      "Epoch 41/100\n",
      "536/536 [==============================] - 0s 829us/step - loss: 0.4070 - accuracy: 0.8267 - val_loss: 0.4301 - val_accuracy: 0.8092\n",
      "Epoch 42/100\n",
      "536/536 [==============================] - 0s 789us/step - loss: 0.4043 - accuracy: 0.8275 - val_loss: 0.4298 - val_accuracy: 0.8095\n",
      "Epoch 43/100\n",
      "536/536 [==============================] - 0s 790us/step - loss: 0.4065 - accuracy: 0.8206 - val_loss: 0.4293 - val_accuracy: 0.8111\n",
      "Epoch 44/100\n",
      "536/536 [==============================] - 0s 771us/step - loss: 0.4125 - accuracy: 0.8141 - val_loss: 0.4288 - val_accuracy: 0.8114\n",
      "Epoch 45/100\n",
      "536/536 [==============================] - 0s 762us/step - loss: 0.4221 - accuracy: 0.8167 - val_loss: 0.4283 - val_accuracy: 0.8111\n",
      "Epoch 46/100\n",
      "536/536 [==============================] - 0s 775us/step - loss: 0.4021 - accuracy: 0.8264 - val_loss: 0.4281 - val_accuracy: 0.8126\n",
      "Epoch 47/100\n",
      "536/536 [==============================] - 0s 813us/step - loss: 0.4181 - accuracy: 0.8163 - val_loss: 0.4278 - val_accuracy: 0.8133\n",
      "Epoch 48/100\n",
      "536/536 [==============================] - 0s 769us/step - loss: 0.4165 - accuracy: 0.8176 - val_loss: 0.4275 - val_accuracy: 0.8126\n",
      "Epoch 49/100\n",
      "536/536 [==============================] - 0s 777us/step - loss: 0.4224 - accuracy: 0.8150 - val_loss: 0.4272 - val_accuracy: 0.8129\n",
      "Epoch 50/100\n",
      "536/536 [==============================] - 0s 772us/step - loss: 0.4198 - accuracy: 0.8199 - val_loss: 0.4268 - val_accuracy: 0.8129\n",
      "Epoch 51/100\n",
      "536/536 [==============================] - 0s 762us/step - loss: 0.4162 - accuracy: 0.8161 - val_loss: 0.4264 - val_accuracy: 0.8137\n",
      "Epoch 52/100\n",
      "536/536 [==============================] - 0s 788us/step - loss: 0.4191 - accuracy: 0.8233 - val_loss: 0.4261 - val_accuracy: 0.8145\n",
      "Epoch 53/100\n",
      "536/536 [==============================] - 0s 764us/step - loss: 0.4099 - accuracy: 0.8299 - val_loss: 0.4258 - val_accuracy: 0.8145\n",
      "Epoch 54/100\n",
      "536/536 [==============================] - 0s 766us/step - loss: 0.4265 - accuracy: 0.8115 - val_loss: 0.4251 - val_accuracy: 0.8152\n",
      "Epoch 55/100\n",
      "536/536 [==============================] - 0s 778us/step - loss: 0.4161 - accuracy: 0.8252 - val_loss: 0.4249 - val_accuracy: 0.8152\n",
      "Epoch 56/100\n",
      "536/536 [==============================] - 0s 766us/step - loss: 0.4144 - accuracy: 0.8227 - val_loss: 0.4244 - val_accuracy: 0.8148\n",
      "Epoch 57/100\n"
     ]
    },
    {
     "name": "stdout",
     "output_type": "stream",
     "text": [
      "536/536 [==============================] - 0s 772us/step - loss: 0.4175 - accuracy: 0.8224 - val_loss: 0.4239 - val_accuracy: 0.8156\n",
      "Epoch 58/100\n",
      "536/536 [==============================] - 0s 768us/step - loss: 0.4045 - accuracy: 0.8285 - val_loss: 0.4234 - val_accuracy: 0.8164\n",
      "Epoch 59/100\n",
      "536/536 [==============================] - 0s 766us/step - loss: 0.4105 - accuracy: 0.8263 - val_loss: 0.4232 - val_accuracy: 0.8160\n",
      "Epoch 60/100\n",
      "536/536 [==============================] - 0s 783us/step - loss: 0.4100 - accuracy: 0.8225 - val_loss: 0.4225 - val_accuracy: 0.8179\n",
      "Epoch 61/100\n",
      "536/536 [==============================] - 0s 783us/step - loss: 0.4089 - accuracy: 0.8241 - val_loss: 0.4220 - val_accuracy: 0.8171\n",
      "Epoch 62/100\n",
      "536/536 [==============================] - 0s 771us/step - loss: 0.4056 - accuracy: 0.8251 - val_loss: 0.4215 - val_accuracy: 0.8190\n",
      "Epoch 63/100\n",
      "536/536 [==============================] - 0s 765us/step - loss: 0.4086 - accuracy: 0.8263 - val_loss: 0.4212 - val_accuracy: 0.8183\n",
      "Epoch 64/100\n",
      "536/536 [==============================] - 0s 769us/step - loss: 0.4026 - accuracy: 0.8316 - val_loss: 0.4206 - val_accuracy: 0.8194\n",
      "Epoch 65/100\n",
      "536/536 [==============================] - 0s 756us/step - loss: 0.4118 - accuracy: 0.8257 - val_loss: 0.4203 - val_accuracy: 0.8190\n",
      "Epoch 66/100\n",
      "536/536 [==============================] - 0s 760us/step - loss: 0.4087 - accuracy: 0.8303 - val_loss: 0.4198 - val_accuracy: 0.8190\n",
      "Epoch 67/100\n",
      "536/536 [==============================] - 0s 771us/step - loss: 0.4017 - accuracy: 0.8296 - val_loss: 0.4192 - val_accuracy: 0.8213\n",
      "Epoch 68/100\n",
      "536/536 [==============================] - 0s 753us/step - loss: 0.4072 - accuracy: 0.8266 - val_loss: 0.4191 - val_accuracy: 0.8194\n",
      "Epoch 69/100\n",
      "536/536 [==============================] - 0s 756us/step - loss: 0.4006 - accuracy: 0.8323 - val_loss: 0.4189 - val_accuracy: 0.8190\n",
      "Epoch 70/100\n",
      "536/536 [==============================] - 0s 754us/step - loss: 0.3991 - accuracy: 0.8361 - val_loss: 0.4182 - val_accuracy: 0.8194\n",
      "Epoch 71/100\n",
      "536/536 [==============================] - 0s 754us/step - loss: 0.4023 - accuracy: 0.8289 - val_loss: 0.4179 - val_accuracy: 0.8217\n",
      "Epoch 72/100\n",
      "536/536 [==============================] - 0s 761us/step - loss: 0.4030 - accuracy: 0.8298 - val_loss: 0.4175 - val_accuracy: 0.8190\n",
      "Epoch 73/100\n",
      "536/536 [==============================] - 0s 757us/step - loss: 0.3965 - accuracy: 0.8378 - val_loss: 0.4172 - val_accuracy: 0.8194\n",
      "Epoch 74/100\n",
      "536/536 [==============================] - 0s 755us/step - loss: 0.4043 - accuracy: 0.8343 - val_loss: 0.4167 - val_accuracy: 0.8198\n",
      "Epoch 75/100\n",
      "536/536 [==============================] - 0s 765us/step - loss: 0.4048 - accuracy: 0.8366 - val_loss: 0.4161 - val_accuracy: 0.8205\n",
      "Epoch 76/100\n",
      "536/536 [==============================] - 0s 761us/step - loss: 0.3924 - accuracy: 0.8424 - val_loss: 0.4157 - val_accuracy: 0.8220\n",
      "Epoch 77/100\n",
      "536/536 [==============================] - 0s 772us/step - loss: 0.3892 - accuracy: 0.8376 - val_loss: 0.4153 - val_accuracy: 0.8220\n",
      "Epoch 78/100\n",
      "536/536 [==============================] - 0s 794us/step - loss: 0.4201 - accuracy: 0.8268 - val_loss: 0.4147 - val_accuracy: 0.8217\n",
      "Epoch 79/100\n",
      "536/536 [==============================] - 0s 762us/step - loss: 0.3985 - accuracy: 0.8394 - val_loss: 0.4143 - val_accuracy: 0.8228\n",
      "Epoch 80/100\n",
      "536/536 [==============================] - 0s 757us/step - loss: 0.4018 - accuracy: 0.8366 - val_loss: 0.4138 - val_accuracy: 0.8239\n",
      "Epoch 81/100\n",
      "536/536 [==============================] - 0s 781us/step - loss: 0.3995 - accuracy: 0.8353 - val_loss: 0.4135 - val_accuracy: 0.8247\n",
      "Epoch 82/100\n",
      "536/536 [==============================] - 0s 782us/step - loss: 0.4088 - accuracy: 0.8309 - val_loss: 0.4130 - val_accuracy: 0.8239\n",
      "Epoch 83/100\n",
      "536/536 [==============================] - 0s 855us/step - loss: 0.4092 - accuracy: 0.8325 - val_loss: 0.4127 - val_accuracy: 0.8232\n",
      "Epoch 84/100\n",
      "536/536 [==============================] - 0s 802us/step - loss: 0.4032 - accuracy: 0.8306 - val_loss: 0.4122 - val_accuracy: 0.8243\n",
      "Epoch 85/100\n",
      "536/536 [==============================] - 0s 773us/step - loss: 0.3930 - accuracy: 0.8371 - val_loss: 0.4118 - val_accuracy: 0.8254\n",
      "Epoch 86/100\n",
      "536/536 [==============================] - 0s 771us/step - loss: 0.3865 - accuracy: 0.8440 - val_loss: 0.4115 - val_accuracy: 0.8262\n",
      "Epoch 87/100\n",
      "536/536 [==============================] - 0s 772us/step - loss: 0.4075 - accuracy: 0.8327 - val_loss: 0.4108 - val_accuracy: 0.8262\n",
      "Epoch 88/100\n",
      "536/536 [==============================] - 0s 775us/step - loss: 0.3883 - accuracy: 0.8422 - val_loss: 0.4104 - val_accuracy: 0.8266\n",
      "Epoch 89/100\n",
      "536/536 [==============================] - 0s 845us/step - loss: 0.3875 - accuracy: 0.8473 - val_loss: 0.4102 - val_accuracy: 0.8273\n",
      "Epoch 90/100\n",
      "536/536 [==============================] - 0s 789us/step - loss: 0.3961 - accuracy: 0.8417 - val_loss: 0.4096 - val_accuracy: 0.8285\n",
      "Epoch 91/100\n",
      "536/536 [==============================] - 0s 791us/step - loss: 0.3945 - accuracy: 0.8419 - val_loss: 0.4092 - val_accuracy: 0.8270\n",
      "Epoch 92/100\n",
      "536/536 [==============================] - 0s 800us/step - loss: 0.3957 - accuracy: 0.8393 - val_loss: 0.4088 - val_accuracy: 0.8277\n",
      "Epoch 93/100\n",
      "536/536 [==============================] - 0s 784us/step - loss: 0.4070 - accuracy: 0.8311 - val_loss: 0.4086 - val_accuracy: 0.8258\n",
      "Epoch 94/100\n",
      "536/536 [==============================] - 0s 808us/step - loss: 0.4012 - accuracy: 0.8317 - val_loss: 0.4082 - val_accuracy: 0.8266\n",
      "Epoch 95/100\n",
      "536/536 [==============================] - 0s 768us/step - loss: 0.3837 - accuracy: 0.8422 - val_loss: 0.4075 - val_accuracy: 0.8262\n",
      "Epoch 96/100\n",
      "536/536 [==============================] - 0s 840us/step - loss: 0.3889 - accuracy: 0.8408 - val_loss: 0.4073 - val_accuracy: 0.8273\n",
      "Epoch 97/100\n",
      "536/536 [==============================] - 0s 880us/step - loss: 0.3894 - accuracy: 0.8381 - val_loss: 0.4070 - val_accuracy: 0.8266\n",
      "Epoch 98/100\n",
      "536/536 [==============================] - 0s 753us/step - loss: 0.3888 - accuracy: 0.8414 - val_loss: 0.4067 - val_accuracy: 0.8270\n",
      "Epoch 99/100\n",
      "536/536 [==============================] - 0s 757us/step - loss: 0.3829 - accuracy: 0.8441 - val_loss: 0.4063 - val_accuracy: 0.8270\n",
      "Epoch 100/100\n",
      "536/536 [==============================] - 0s 788us/step - loss: 0.3825 - accuracy: 0.8480 - val_loss: 0.4060 - val_accuracy: 0.8270\n"
     ]
    }
   ],
   "source": [
    "model_history=classifier.fit(X_train, y_train,validation_split=0.33, batch_size = 10, epochs = 100)"
   ]
  },
  {
   "cell_type": "code",
   "execution_count": 13,
   "metadata": {},
   "outputs": [
    {
     "name": "stdout",
     "output_type": "stream",
     "text": [
      "dict_keys(['loss', 'accuracy', 'val_loss', 'val_accuracy'])\n"
     ]
    },
    {
     "data": {
      "image/png": "[encoded data removed]",
      "text/plain": [
       "<Figure size 432x288 with 1 Axes>"
      ]
     },
     "metadata": {
      "needs_background": "light"
     },
     "output_type": "display_data"
    }
   ],
   "source": [
    "print(model_history.history.keys())\n",
    "plt.plot(model_history.history['accuracy'])\n",
    "plt.plot(model_history.history['val_accuracy'])\n",
    "plt.title('model accuracy')\n",
    "plt.ylabel('accuracy')\n",
    "plt.xlabel('epoch')\n",
    "plt.legend(['train', 'test'], loc='upper left')\n",
    "plt.show()"
   ]
  },
  {
   "cell_type": "code",
   "execution_count": 14,
   "metadata": {},
   "outputs": [
    {
     "data": {
      "image/png": "[encoded data removed]",
      "text/plain": [
       "<Figure size 432x288 with 1 Axes>"
      ]
     },
     "metadata": {
      "needs_background": "light"
     },
     "output_type": "display_data"
    }
   ],
   "source": [
    "plt.plot(model_history.history['loss'])\n",
    "plt.plot(model_history.history['val_loss'])\n",
    "plt.title('model loss')\n",
    "plt.ylabel('loss')\n",
    "plt.xlabel('epoch')\n",
    "plt.legend(['train', 'test'], loc='upper left')\n",
    "plt.show()"
   ]
  },
  {
   "cell_type": "code",
   "execution_count": 18,
   "metadata": {},
   "outputs": [],
   "source": [
    "y_pred = classifier.predict(X_test)\n",
    "y_pred = (y_pred > 0.5)"
   ]
  },
  {
   "cell_type": "code",
   "execution_count": 19,
   "metadata": {},
   "outputs": [
    {
     "data": {
      "text/plain": [
       "array([[1549,   46],\n",
       "       [ 268,  137]], dtype=int64)"
      ]
     },
     "execution_count": 19,
     "metadata": {},
     "output_type": "execute_result"
    }
   ],
   "source": [
    "from sklearn.metrics import confusion_matrix\n",
    "confusion_matrix(y_test, y_pred)"
   ]
  },
  {
   "cell_type": "code",
   "execution_count": 20,
   "metadata": {},
   "outputs": [
    {
     "data": {
      "text/plain": [
       "0.843"
      ]
     },
     "execution_count": 20,
     "metadata": {},
     "output_type": "execute_result"
    }
   ],
   "source": [
    "from sklearn.metrics import accuracy_score\n",
    "accuracy_score(y_pred,y_test)"
   ]
  },
  {
   "cell_type": "code",
   "execution_count": 36,
   "metadata": {},
   "outputs": [
    {
     "data": {
      "text/plain": [
       "(array([False,  True]), array([1817,  183], dtype=int64))"
      ]
     },
     "execution_count": 36,
     "metadata": {},
     "output_type": "execute_result"
    }
   ],
   "source": [
    "(unique, counts) = np.unique(y_pred, return_counts=True)\n",
    "unique,counts"
   ]
  },
  {
   "cell_type": "code",
   "execution_count": null,
   "metadata": {},
   "outputs": [],
   "source": []
  }
 ],
 "metadata": {
  "kernelspec": {
   "display_name": "Python 3",
   "language": "python",
   "name": "python3"
  },
  "language_info": {
   "codemirror_mode": {
    "name": "ipython",
    "version": 3
   },
   "file_extension": ".py",
   "mimetype": "text/x-python",
   "name": "python",
   "nbconvert_exporter": "python",
   "pygments_lexer": "ipython3",
   "version": "3.9.0"
  }
 },
 "nbformat": 4,
 "nbformat_minor": 4
}
