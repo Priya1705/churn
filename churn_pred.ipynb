{
 "cells": [
  {
   "cell_type": "code",
   "execution_count": 121,
   "metadata": {},
   "outputs": [],
   "source": [
    "import pandas as pd\n",
    "import numpy as np"
   ]
  },
  {
   "cell_type": "code",
   "execution_count": 122,
   "metadata": {},
   "outputs": [],
   "source": [
    "data=pd.read_csv('Churn_Modelling.csv')"
   ]
  },
  {
   "cell_type": "code",
   "execution_count": 123,
   "metadata": {},
   "outputs": [
    {
     "data": {
      "text/html": [
       "<div>\n",
       "<style scoped>\n",
       "    .dataframe tbody tr th:only-of-type {\n",
       "        vertical-align: middle;\n",
       "    }\n",
       "\n",
       "    .dataframe tbody tr th {\n",
       "        vertical-align: top;\n",
       "    }\n",
       "\n",
       "    .dataframe thead th {\n",
       "        text-align: right;\n",
       "    }\n",
       "</style>\n",
       "<table border=\"1\" class=\"dataframe\">\n",
       "  <thead>\n",
       "    <tr style=\"text-align: right;\">\n",
       "      <th></th>\n",
       "      <th>RowNumber</th>\n",
       "      <th>CustomerId</th>\n",
       "      <th>Surname</th>\n",
       "      <th>CreditScore</th>\n",
       "      <th>Geography</th>\n",
       "      <th>Gender</th>\n",
       "      <th>Age</th>\n",
       "      <th>Tenure</th>\n",
       "      <th>Balance</th>\n",
       "      <th>NumOfProducts</th>\n",
       "      <th>HasCrCard</th>\n",
       "      <th>IsActiveMember</th>\n",
       "      <th>EstimatedSalary</th>\n",
       "      <th>Exited</th>\n",
       "    </tr>\n",
       "  </thead>\n",
       "  <tbody>\n",
       "    <tr>\n",
       "      <th>0</th>\n",
       "      <td>1</td>\n",
       "      <td>15634602</td>\n",
       "      <td>Hargrave</td>\n",
       "      <td>619</td>\n",
       "      <td>France</td>\n",
       "      <td>Female</td>\n",
       "      <td>42</td>\n",
       "      <td>2</td>\n",
       "      <td>0.00</td>\n",
       "      <td>1</td>\n",
       "      <td>1</td>\n",
       "      <td>1</td>\n",
       "      <td>101348.88</td>\n",
       "      <td>1</td>\n",
       "    </tr>\n",
       "    <tr>\n",
       "      <th>1</th>\n",
       "      <td>2</td>\n",
       "      <td>15647311</td>\n",
       "      <td>Hill</td>\n",
       "      <td>608</td>\n",
       "      <td>Spain</td>\n",
       "      <td>Female</td>\n",
       "      <td>41</td>\n",
       "      <td>1</td>\n",
       "      <td>83807.86</td>\n",
       "      <td>1</td>\n",
       "      <td>0</td>\n",
       "      <td>1</td>\n",
       "      <td>112542.58</td>\n",
       "      <td>0</td>\n",
       "    </tr>\n",
       "    <tr>\n",
       "      <th>2</th>\n",
       "      <td>3</td>\n",
       "      <td>15619304</td>\n",
       "      <td>Onio</td>\n",
       "      <td>502</td>\n",
       "      <td>France</td>\n",
       "      <td>Female</td>\n",
       "      <td>42</td>\n",
       "      <td>8</td>\n",
       "      <td>159660.80</td>\n",
       "      <td>3</td>\n",
       "      <td>1</td>\n",
       "      <td>0</td>\n",
       "      <td>113931.57</td>\n",
       "      <td>1</td>\n",
       "    </tr>\n",
       "    <tr>\n",
       "      <th>3</th>\n",
       "      <td>4</td>\n",
       "      <td>15701354</td>\n",
       "      <td>Boni</td>\n",
       "      <td>699</td>\n",
       "      <td>France</td>\n",
       "      <td>Female</td>\n",
       "      <td>39</td>\n",
       "      <td>1</td>\n",
       "      <td>0.00</td>\n",
       "      <td>2</td>\n",
       "      <td>0</td>\n",
       "      <td>0</td>\n",
       "      <td>93826.63</td>\n",
       "      <td>0</td>\n",
       "    </tr>\n",
       "    <tr>\n",
       "      <th>4</th>\n",
       "      <td>5</td>\n",
       "      <td>15737888</td>\n",
       "      <td>Mitchell</td>\n",
       "      <td>850</td>\n",
       "      <td>Spain</td>\n",
       "      <td>Female</td>\n",
       "      <td>43</td>\n",
       "      <td>2</td>\n",
       "      <td>125510.82</td>\n",
       "      <td>1</td>\n",
       "      <td>1</td>\n",
       "      <td>1</td>\n",
       "      <td>79084.10</td>\n",
       "      <td>0</td>\n",
       "    </tr>\n",
       "  </tbody>\n",
       "</table>\n",
       "</div>"
      ],
      "text/plain": [
       "   RowNumber  CustomerId   Surname  CreditScore Geography  Gender  Age  \\\n",
       "0          1    15634602  Hargrave          619    France  Female   42   \n",
       "1          2    15647311      Hill          608     Spain  Female   41   \n",
       "2          3    15619304      Onio          502    France  Female   42   \n",
       "3          4    15701354      Boni          699    France  Female   39   \n",
       "4          5    15737888  Mitchell          850     Spain  Female   43   \n",
       "\n",
       "   Tenure    Balance  NumOfProducts  HasCrCard  IsActiveMember  \\\n",
       "0       2       0.00              1          1               1   \n",
       "1       1   83807.86              1          0               1   \n",
       "2       8  159660.80              3          1               0   \n",
       "3       1       0.00              2          0               0   \n",
       "4       2  125510.82              1          1               1   \n",
       "\n",
       "   EstimatedSalary  Exited  \n",
       "0        101348.88       1  \n",
       "1        112542.58       0  \n",
       "2        113931.57       1  \n",
       "3         93826.63       0  \n",
       "4         79084.10       0  "
      ]
     },
     "execution_count": 123,
     "metadata": {},
     "output_type": "execute_result"
    }
   ],
   "source": [
    "data.head()"
   ]
  },
  {
   "cell_type": "code",
   "execution_count": 4,
   "metadata": {},
   "outputs": [
    {
     "name": "stdout",
     "output_type": "stream",
     "text": [
      "<class 'pandas.core.frame.DataFrame'>\n",
      "RangeIndex: 10000 entries, 0 to 9999\n",
      "Data columns (total 14 columns):\n",
      " #   Column           Non-Null Count  Dtype  \n",
      "---  ------           --------------  -----  \n",
      " 0   RowNumber        10000 non-null  int64  \n",
      " 1   CustomerId       10000 non-null  int64  \n",
      " 2   Surname          10000 non-null  object \n",
      " 3   CreditScore      10000 non-null  int64  \n",
      " 4   Geography        10000 non-null  object \n",
      " 5   Gender           10000 non-null  object \n",
      " 6   Age              10000 non-null  int64  \n",
      " 7   Tenure           10000 non-null  int64  \n",
      " 8   Balance          10000 non-null  float64\n",
      " 9   NumOfProducts    10000 non-null  int64  \n",
      " 10  HasCrCard        10000 non-null  int64  \n",
      " 11  IsActiveMember   10000 non-null  int64  \n",
      " 12  EstimatedSalary  10000 non-null  float64\n",
      " 13  Exited           10000 non-null  int64  \n",
      "dtypes: float64(2), int64(9), object(3)\n",
      "memory usage: 1.1+ MB\n"
     ]
    }
   ],
   "source": [
    "data.info()"
   ]
  },
  {
   "cell_type": "code",
   "execution_count": 5,
   "metadata": {},
   "outputs": [
    {
     "data": {
      "text/plain": [
       "Index(['RowNumber', 'CustomerId', 'Surname', 'CreditScore', 'Geography',\n",
       "       'Gender', 'Age', 'Tenure', 'Balance', 'NumOfProducts', 'HasCrCard',\n",
       "       'IsActiveMember', 'EstimatedSalary', 'Exited'],\n",
       "      dtype='object')"
      ]
     },
     "execution_count": 5,
     "metadata": {},
     "output_type": "execute_result"
    }
   ],
   "source": [
    "data.columns"
   ]
  },
  {
   "cell_type": "code",
   "execution_count": 6,
   "metadata": {
    "collapsed": true
   },
   "outputs": [
    {
     "data": {
      "application/vnd.jupyter.widget-view+json": {
       "model_id": "482f20c6c7154b1190e674f6f52d2f86",
       "version_major": 2,
       "version_minor": 0
      },
      "text/plain": [
       "                                             |                                             | [  0%]   00:00 ->…"
      ]
     },
     "metadata": {},
     "output_type": "display_data"
    },
    {
     "name": "stdout",
     "output_type": "stream",
     "text": [
      "Report churn.html was generated! NOTEBOOK/COLAB USERS: the web browser MAY not pop up, regardless, the report IS saved in your notebook/colab files.\n"
     ]
    }
   ],
   "source": [
    "import sweetviz as sv\n",
    "\n",
    "analysis=sv.analyze(data)\n",
    "analysis.show_html('churn.html')"
   ]
  },
  {
   "cell_type": "code",
   "execution_count": 6,
   "metadata": {},
   "outputs": [
    {
     "data": {
      "text/plain": [
       "RowNumber          0\n",
       "CustomerId         0\n",
       "Surname            0\n",
       "CreditScore        0\n",
       "Geography          0\n",
       "Gender             0\n",
       "Age                0\n",
       "Tenure             0\n",
       "Balance            0\n",
       "NumOfProducts      0\n",
       "HasCrCard          0\n",
       "IsActiveMember     0\n",
       "EstimatedSalary    0\n",
       "Exited             0\n",
       "dtype: int64"
      ]
     },
     "execution_count": 6,
     "metadata": {},
     "output_type": "execute_result"
    }
   ],
   "source": [
    "data.isnull().sum()"
   ]
  },
  {
   "cell_type": "code",
   "execution_count": 124,
   "metadata": {},
   "outputs": [],
   "source": [
    "data.drop(\"RowNumber\",axis=1,inplace=True)\n",
    "data.drop(\"CustomerId\",axis=1,inplace=True)\n",
    "data.drop(\"Surname\",axis=1,inplace=True)"
   ]
  },
  {
   "cell_type": "code",
   "execution_count": 8,
   "metadata": {},
   "outputs": [
    {
     "data": {
      "text/html": [
       "<div>\n",
       "<style scoped>\n",
       "    .dataframe tbody tr th:only-of-type {\n",
       "        vertical-align: middle;\n",
       "    }\n",
       "\n",
       "    .dataframe tbody tr th {\n",
       "        vertical-align: top;\n",
       "    }\n",
       "\n",
       "    .dataframe thead th {\n",
       "        text-align: right;\n",
       "    }\n",
       "</style>\n",
       "<table border=\"1\" class=\"dataframe\">\n",
       "  <thead>\n",
       "    <tr style=\"text-align: right;\">\n",
       "      <th></th>\n",
       "      <th>CreditScore</th>\n",
       "      <th>Geography</th>\n",
       "      <th>Gender</th>\n",
       "      <th>Age</th>\n",
       "      <th>Tenure</th>\n",
       "      <th>Balance</th>\n",
       "      <th>NumOfProducts</th>\n",
       "      <th>HasCrCard</th>\n",
       "      <th>IsActiveMember</th>\n",
       "      <th>EstimatedSalary</th>\n",
       "      <th>Exited</th>\n",
       "    </tr>\n",
       "  </thead>\n",
       "  <tbody>\n",
       "    <tr>\n",
       "      <th>0</th>\n",
       "      <td>619</td>\n",
       "      <td>France</td>\n",
       "      <td>Female</td>\n",
       "      <td>42</td>\n",
       "      <td>2</td>\n",
       "      <td>0.00</td>\n",
       "      <td>1</td>\n",
       "      <td>1</td>\n",
       "      <td>1</td>\n",
       "      <td>101348.88</td>\n",
       "      <td>1</td>\n",
       "    </tr>\n",
       "    <tr>\n",
       "      <th>1</th>\n",
       "      <td>608</td>\n",
       "      <td>Spain</td>\n",
       "      <td>Female</td>\n",
       "      <td>41</td>\n",
       "      <td>1</td>\n",
       "      <td>83807.86</td>\n",
       "      <td>1</td>\n",
       "      <td>0</td>\n",
       "      <td>1</td>\n",
       "      <td>112542.58</td>\n",
       "      <td>0</td>\n",
       "    </tr>\n",
       "    <tr>\n",
       "      <th>2</th>\n",
       "      <td>502</td>\n",
       "      <td>France</td>\n",
       "      <td>Female</td>\n",
       "      <td>42</td>\n",
       "      <td>8</td>\n",
       "      <td>159660.80</td>\n",
       "      <td>3</td>\n",
       "      <td>1</td>\n",
       "      <td>0</td>\n",
       "      <td>113931.57</td>\n",
       "      <td>1</td>\n",
       "    </tr>\n",
       "    <tr>\n",
       "      <th>3</th>\n",
       "      <td>699</td>\n",
       "      <td>France</td>\n",
       "      <td>Female</td>\n",
       "      <td>39</td>\n",
       "      <td>1</td>\n",
       "      <td>0.00</td>\n",
       "      <td>2</td>\n",
       "      <td>0</td>\n",
       "      <td>0</td>\n",
       "      <td>93826.63</td>\n",
       "      <td>0</td>\n",
       "    </tr>\n",
       "    <tr>\n",
       "      <th>4</th>\n",
       "      <td>850</td>\n",
       "      <td>Spain</td>\n",
       "      <td>Female</td>\n",
       "      <td>43</td>\n",
       "      <td>2</td>\n",
       "      <td>125510.82</td>\n",
       "      <td>1</td>\n",
       "      <td>1</td>\n",
       "      <td>1</td>\n",
       "      <td>79084.10</td>\n",
       "      <td>0</td>\n",
       "    </tr>\n",
       "  </tbody>\n",
       "</table>\n",
       "</div>"
      ],
      "text/plain": [
       "   CreditScore Geography  Gender  Age  Tenure    Balance  NumOfProducts  \\\n",
       "0          619    France  Female   42       2       0.00              1   \n",
       "1          608     Spain  Female   41       1   83807.86              1   \n",
       "2          502    France  Female   42       8  159660.80              3   \n",
       "3          699    France  Female   39       1       0.00              2   \n",
       "4          850     Spain  Female   43       2  125510.82              1   \n",
       "\n",
       "   HasCrCard  IsActiveMember  EstimatedSalary  Exited  \n",
       "0          1               1        101348.88       1  \n",
       "1          0               1        112542.58       0  \n",
       "2          1               0        113931.57       1  \n",
       "3          0               0         93826.63       0  \n",
       "4          1               1         79084.10       0  "
      ]
     },
     "execution_count": 8,
     "metadata": {},
     "output_type": "execute_result"
    }
   ],
   "source": [
    "data.head()"
   ]
  },
  {
   "cell_type": "code",
   "execution_count": 125,
   "metadata": {},
   "outputs": [
    {
     "data": {
      "text/html": [
       "<div>\n",
       "<style scoped>\n",
       "    .dataframe tbody tr th:only-of-type {\n",
       "        vertical-align: middle;\n",
       "    }\n",
       "\n",
       "    .dataframe tbody tr th {\n",
       "        vertical-align: top;\n",
       "    }\n",
       "\n",
       "    .dataframe thead th {\n",
       "        text-align: right;\n",
       "    }\n",
       "</style>\n",
       "<table border=\"1\" class=\"dataframe\">\n",
       "  <thead>\n",
       "    <tr style=\"text-align: right;\">\n",
       "      <th></th>\n",
       "      <th>Germany</th>\n",
       "      <th>Spain</th>\n",
       "    </tr>\n",
       "  </thead>\n",
       "  <tbody>\n",
       "    <tr>\n",
       "      <th>0</th>\n",
       "      <td>0</td>\n",
       "      <td>0</td>\n",
       "    </tr>\n",
       "    <tr>\n",
       "      <th>1</th>\n",
       "      <td>0</td>\n",
       "      <td>1</td>\n",
       "    </tr>\n",
       "    <tr>\n",
       "      <th>2</th>\n",
       "      <td>0</td>\n",
       "      <td>0</td>\n",
       "    </tr>\n",
       "    <tr>\n",
       "      <th>3</th>\n",
       "      <td>0</td>\n",
       "      <td>0</td>\n",
       "    </tr>\n",
       "    <tr>\n",
       "      <th>4</th>\n",
       "      <td>0</td>\n",
       "      <td>1</td>\n",
       "    </tr>\n",
       "    <tr>\n",
       "      <th>...</th>\n",
       "      <td>...</td>\n",
       "      <td>...</td>\n",
       "    </tr>\n",
       "    <tr>\n",
       "      <th>9995</th>\n",
       "      <td>0</td>\n",
       "      <td>0</td>\n",
       "    </tr>\n",
       "    <tr>\n",
       "      <th>9996</th>\n",
       "      <td>0</td>\n",
       "      <td>0</td>\n",
       "    </tr>\n",
       "    <tr>\n",
       "      <th>9997</th>\n",
       "      <td>0</td>\n",
       "      <td>0</td>\n",
       "    </tr>\n",
       "    <tr>\n",
       "      <th>9998</th>\n",
       "      <td>1</td>\n",
       "      <td>0</td>\n",
       "    </tr>\n",
       "    <tr>\n",
       "      <th>9999</th>\n",
       "      <td>0</td>\n",
       "      <td>0</td>\n",
       "    </tr>\n",
       "  </tbody>\n",
       "</table>\n",
       "<p>10000 rows × 2 columns</p>\n",
       "</div>"
      ],
      "text/plain": [
       "      Germany  Spain\n",
       "0           0      0\n",
       "1           0      1\n",
       "2           0      0\n",
       "3           0      0\n",
       "4           0      1\n",
       "...       ...    ...\n",
       "9995        0      0\n",
       "9996        0      0\n",
       "9997        0      0\n",
       "9998        1      0\n",
       "9999        0      0\n",
       "\n",
       "[10000 rows x 2 columns]"
      ]
     },
     "execution_count": 125,
     "metadata": {},
     "output_type": "execute_result"
    }
   ],
   "source": [
    "geo=pd.get_dummies(data[\"Geography\"],drop_first=True)\n",
    "geo"
   ]
  },
  {
   "cell_type": "code",
   "execution_count": 126,
   "metadata": {},
   "outputs": [
    {
     "data": {
      "text/html": [
       "<div>\n",
       "<style scoped>\n",
       "    .dataframe tbody tr th:only-of-type {\n",
       "        vertical-align: middle;\n",
       "    }\n",
       "\n",
       "    .dataframe tbody tr th {\n",
       "        vertical-align: top;\n",
       "    }\n",
       "\n",
       "    .dataframe thead th {\n",
       "        text-align: right;\n",
       "    }\n",
       "</style>\n",
       "<table border=\"1\" class=\"dataframe\">\n",
       "  <thead>\n",
       "    <tr style=\"text-align: right;\">\n",
       "      <th></th>\n",
       "      <th>Male</th>\n",
       "    </tr>\n",
       "  </thead>\n",
       "  <tbody>\n",
       "    <tr>\n",
       "      <th>0</th>\n",
       "      <td>0</td>\n",
       "    </tr>\n",
       "    <tr>\n",
       "      <th>1</th>\n",
       "      <td>0</td>\n",
       "    </tr>\n",
       "    <tr>\n",
       "      <th>2</th>\n",
       "      <td>0</td>\n",
       "    </tr>\n",
       "    <tr>\n",
       "      <th>3</th>\n",
       "      <td>0</td>\n",
       "    </tr>\n",
       "    <tr>\n",
       "      <th>4</th>\n",
       "      <td>0</td>\n",
       "    </tr>\n",
       "    <tr>\n",
       "      <th>...</th>\n",
       "      <td>...</td>\n",
       "    </tr>\n",
       "    <tr>\n",
       "      <th>9995</th>\n",
       "      <td>1</td>\n",
       "    </tr>\n",
       "    <tr>\n",
       "      <th>9996</th>\n",
       "      <td>1</td>\n",
       "    </tr>\n",
       "    <tr>\n",
       "      <th>9997</th>\n",
       "      <td>0</td>\n",
       "    </tr>\n",
       "    <tr>\n",
       "      <th>9998</th>\n",
       "      <td>1</td>\n",
       "    </tr>\n",
       "    <tr>\n",
       "      <th>9999</th>\n",
       "      <td>0</td>\n",
       "    </tr>\n",
       "  </tbody>\n",
       "</table>\n",
       "<p>10000 rows × 1 columns</p>\n",
       "</div>"
      ],
      "text/plain": [
       "      Male\n",
       "0        0\n",
       "1        0\n",
       "2        0\n",
       "3        0\n",
       "4        0\n",
       "...    ...\n",
       "9995     1\n",
       "9996     1\n",
       "9997     0\n",
       "9998     1\n",
       "9999     0\n",
       "\n",
       "[10000 rows x 1 columns]"
      ]
     },
     "execution_count": 126,
     "metadata": {},
     "output_type": "execute_result"
    }
   ],
   "source": [
    "gender=pd.get_dummies(data[\"Gender\"], drop_first=True)\n",
    "gender"
   ]
  },
  {
   "cell_type": "code",
   "execution_count": 127,
   "metadata": {},
   "outputs": [
    {
     "data": {
      "text/html": [
       "<div>\n",
       "<style scoped>\n",
       "    .dataframe tbody tr th:only-of-type {\n",
       "        vertical-align: middle;\n",
       "    }\n",
       "\n",
       "    .dataframe tbody tr th {\n",
       "        vertical-align: top;\n",
       "    }\n",
       "\n",
       "    .dataframe thead th {\n",
       "        text-align: right;\n",
       "    }\n",
       "</style>\n",
       "<table border=\"1\" class=\"dataframe\">\n",
       "  <thead>\n",
       "    <tr style=\"text-align: right;\">\n",
       "      <th></th>\n",
       "      <th>CreditScore</th>\n",
       "      <th>Geography</th>\n",
       "      <th>Gender</th>\n",
       "      <th>Age</th>\n",
       "      <th>Tenure</th>\n",
       "      <th>Balance</th>\n",
       "      <th>NumOfProducts</th>\n",
       "      <th>HasCrCard</th>\n",
       "      <th>IsActiveMember</th>\n",
       "      <th>EstimatedSalary</th>\n",
       "      <th>Exited</th>\n",
       "      <th>Male</th>\n",
       "      <th>Germany</th>\n",
       "      <th>Spain</th>\n",
       "    </tr>\n",
       "  </thead>\n",
       "  <tbody>\n",
       "    <tr>\n",
       "      <th>0</th>\n",
       "      <td>619</td>\n",
       "      <td>France</td>\n",
       "      <td>Female</td>\n",
       "      <td>42</td>\n",
       "      <td>2</td>\n",
       "      <td>0.00</td>\n",
       "      <td>1</td>\n",
       "      <td>1</td>\n",
       "      <td>1</td>\n",
       "      <td>101348.88</td>\n",
       "      <td>1</td>\n",
       "      <td>0</td>\n",
       "      <td>0</td>\n",
       "      <td>0</td>\n",
       "    </tr>\n",
       "    <tr>\n",
       "      <th>1</th>\n",
       "      <td>608</td>\n",
       "      <td>Spain</td>\n",
       "      <td>Female</td>\n",
       "      <td>41</td>\n",
       "      <td>1</td>\n",
       "      <td>83807.86</td>\n",
       "      <td>1</td>\n",
       "      <td>0</td>\n",
       "      <td>1</td>\n",
       "      <td>112542.58</td>\n",
       "      <td>0</td>\n",
       "      <td>0</td>\n",
       "      <td>0</td>\n",
       "      <td>1</td>\n",
       "    </tr>\n",
       "    <tr>\n",
       "      <th>2</th>\n",
       "      <td>502</td>\n",
       "      <td>France</td>\n",
       "      <td>Female</td>\n",
       "      <td>42</td>\n",
       "      <td>8</td>\n",
       "      <td>159660.80</td>\n",
       "      <td>3</td>\n",
       "      <td>1</td>\n",
       "      <td>0</td>\n",
       "      <td>113931.57</td>\n",
       "      <td>1</td>\n",
       "      <td>0</td>\n",
       "      <td>0</td>\n",
       "      <td>0</td>\n",
       "    </tr>\n",
       "    <tr>\n",
       "      <th>3</th>\n",
       "      <td>699</td>\n",
       "      <td>France</td>\n",
       "      <td>Female</td>\n",
       "      <td>39</td>\n",
       "      <td>1</td>\n",
       "      <td>0.00</td>\n",
       "      <td>2</td>\n",
       "      <td>0</td>\n",
       "      <td>0</td>\n",
       "      <td>93826.63</td>\n",
       "      <td>0</td>\n",
       "      <td>0</td>\n",
       "      <td>0</td>\n",
       "      <td>0</td>\n",
       "    </tr>\n",
       "    <tr>\n",
       "      <th>4</th>\n",
       "      <td>850</td>\n",
       "      <td>Spain</td>\n",
       "      <td>Female</td>\n",
       "      <td>43</td>\n",
       "      <td>2</td>\n",
       "      <td>125510.82</td>\n",
       "      <td>1</td>\n",
       "      <td>1</td>\n",
       "      <td>1</td>\n",
       "      <td>79084.10</td>\n",
       "      <td>0</td>\n",
       "      <td>0</td>\n",
       "      <td>0</td>\n",
       "      <td>1</td>\n",
       "    </tr>\n",
       "  </tbody>\n",
       "</table>\n",
       "</div>"
      ],
      "text/plain": [
       "   CreditScore Geography  Gender  Age  Tenure    Balance  NumOfProducts  \\\n",
       "0          619    France  Female   42       2       0.00              1   \n",
       "1          608     Spain  Female   41       1   83807.86              1   \n",
       "2          502    France  Female   42       8  159660.80              3   \n",
       "3          699    France  Female   39       1       0.00              2   \n",
       "4          850     Spain  Female   43       2  125510.82              1   \n",
       "\n",
       "   HasCrCard  IsActiveMember  EstimatedSalary  Exited  Male  Germany  Spain  \n",
       "0          1               1        101348.88       1     0        0      0  \n",
       "1          0               1        112542.58       0     0        0      1  \n",
       "2          1               0        113931.57       1     0        0      0  \n",
       "3          0               0         93826.63       0     0        0      0  \n",
       "4          1               1         79084.10       0     0        0      1  "
      ]
     },
     "execution_count": 127,
     "metadata": {},
     "output_type": "execute_result"
    }
   ],
   "source": [
    "data[\"Male\"]=gender[\"Male\"]\n",
    "data[\"Germany\"]=geo[\"Germany\"]\n",
    "data[\"Spain\"]=geo[\"Spain\"]\n",
    "\n",
    "data.head()"
   ]
  },
  {
   "cell_type": "code",
   "execution_count": 128,
   "metadata": {},
   "outputs": [
    {
     "data": {
      "text/html": [
       "<div>\n",
       "<style scoped>\n",
       "    .dataframe tbody tr th:only-of-type {\n",
       "        vertical-align: middle;\n",
       "    }\n",
       "\n",
       "    .dataframe tbody tr th {\n",
       "        vertical-align: top;\n",
       "    }\n",
       "\n",
       "    .dataframe thead th {\n",
       "        text-align: right;\n",
       "    }\n",
       "</style>\n",
       "<table border=\"1\" class=\"dataframe\">\n",
       "  <thead>\n",
       "    <tr style=\"text-align: right;\">\n",
       "      <th></th>\n",
       "      <th>CreditScore</th>\n",
       "      <th>Age</th>\n",
       "      <th>Tenure</th>\n",
       "      <th>Balance</th>\n",
       "      <th>NumOfProducts</th>\n",
       "      <th>HasCrCard</th>\n",
       "      <th>IsActiveMember</th>\n",
       "      <th>EstimatedSalary</th>\n",
       "      <th>Exited</th>\n",
       "      <th>Male</th>\n",
       "      <th>Germany</th>\n",
       "      <th>Spain</th>\n",
       "    </tr>\n",
       "  </thead>\n",
       "  <tbody>\n",
       "    <tr>\n",
       "      <th>0</th>\n",
       "      <td>619</td>\n",
       "      <td>42</td>\n",
       "      <td>2</td>\n",
       "      <td>0.00</td>\n",
       "      <td>1</td>\n",
       "      <td>1</td>\n",
       "      <td>1</td>\n",
       "      <td>101348.88</td>\n",
       "      <td>1</td>\n",
       "      <td>0</td>\n",
       "      <td>0</td>\n",
       "      <td>0</td>\n",
       "    </tr>\n",
       "    <tr>\n",
       "      <th>1</th>\n",
       "      <td>608</td>\n",
       "      <td>41</td>\n",
       "      <td>1</td>\n",
       "      <td>83807.86</td>\n",
       "      <td>1</td>\n",
       "      <td>0</td>\n",
       "      <td>1</td>\n",
       "      <td>112542.58</td>\n",
       "      <td>0</td>\n",
       "      <td>0</td>\n",
       "      <td>0</td>\n",
       "      <td>1</td>\n",
       "    </tr>\n",
       "    <tr>\n",
       "      <th>2</th>\n",
       "      <td>502</td>\n",
       "      <td>42</td>\n",
       "      <td>8</td>\n",
       "      <td>159660.80</td>\n",
       "      <td>3</td>\n",
       "      <td>1</td>\n",
       "      <td>0</td>\n",
       "      <td>113931.57</td>\n",
       "      <td>1</td>\n",
       "      <td>0</td>\n",
       "      <td>0</td>\n",
       "      <td>0</td>\n",
       "    </tr>\n",
       "    <tr>\n",
       "      <th>3</th>\n",
       "      <td>699</td>\n",
       "      <td>39</td>\n",
       "      <td>1</td>\n",
       "      <td>0.00</td>\n",
       "      <td>2</td>\n",
       "      <td>0</td>\n",
       "      <td>0</td>\n",
       "      <td>93826.63</td>\n",
       "      <td>0</td>\n",
       "      <td>0</td>\n",
       "      <td>0</td>\n",
       "      <td>0</td>\n",
       "    </tr>\n",
       "    <tr>\n",
       "      <th>4</th>\n",
       "      <td>850</td>\n",
       "      <td>43</td>\n",
       "      <td>2</td>\n",
       "      <td>125510.82</td>\n",
       "      <td>1</td>\n",
       "      <td>1</td>\n",
       "      <td>1</td>\n",
       "      <td>79084.10</td>\n",
       "      <td>0</td>\n",
       "      <td>0</td>\n",
       "      <td>0</td>\n",
       "      <td>1</td>\n",
       "    </tr>\n",
       "  </tbody>\n",
       "</table>\n",
       "</div>"
      ],
      "text/plain": [
       "   CreditScore  Age  Tenure    Balance  NumOfProducts  HasCrCard  \\\n",
       "0          619   42       2       0.00              1          1   \n",
       "1          608   41       1   83807.86              1          0   \n",
       "2          502   42       8  159660.80              3          1   \n",
       "3          699   39       1       0.00              2          0   \n",
       "4          850   43       2  125510.82              1          1   \n",
       "\n",
       "   IsActiveMember  EstimatedSalary  Exited  Male  Germany  Spain  \n",
       "0               1        101348.88       1     0        0      0  \n",
       "1               1        112542.58       0     0        0      1  \n",
       "2               0        113931.57       1     0        0      0  \n",
       "3               0         93826.63       0     0        0      0  \n",
       "4               1         79084.10       0     0        0      1  "
      ]
     },
     "execution_count": 128,
     "metadata": {},
     "output_type": "execute_result"
    }
   ],
   "source": [
    "data.drop(\"Geography\",axis=1,inplace=True)\n",
    "data.drop(\"Gender\",axis=1,inplace=True)\n",
    "data.head()"
   ]
  },
  {
   "cell_type": "code",
   "execution_count": 129,
   "metadata": {},
   "outputs": [
    {
     "data": {
      "text/html": [
       "<div>\n",
       "<style scoped>\n",
       "    .dataframe tbody tr th:only-of-type {\n",
       "        vertical-align: middle;\n",
       "    }\n",
       "\n",
       "    .dataframe tbody tr th {\n",
       "        vertical-align: top;\n",
       "    }\n",
       "\n",
       "    .dataframe thead th {\n",
       "        text-align: right;\n",
       "    }\n",
       "</style>\n",
       "<table border=\"1\" class=\"dataframe\">\n",
       "  <thead>\n",
       "    <tr style=\"text-align: right;\">\n",
       "      <th></th>\n",
       "      <th>CreditScore</th>\n",
       "      <th>Age</th>\n",
       "      <th>Tenure</th>\n",
       "      <th>Balance</th>\n",
       "      <th>NumOfProducts</th>\n",
       "      <th>HasCrCard</th>\n",
       "      <th>IsActiveMember</th>\n",
       "      <th>EstimatedSalary</th>\n",
       "      <th>Exited</th>\n",
       "      <th>Male</th>\n",
       "      <th>Germany</th>\n",
       "      <th>Spain</th>\n",
       "    </tr>\n",
       "  </thead>\n",
       "  <tbody>\n",
       "    <tr>\n",
       "      <th>CreditScore</th>\n",
       "      <td>1.000000</td>\n",
       "      <td>-0.003965</td>\n",
       "      <td>0.000842</td>\n",
       "      <td>0.006268</td>\n",
       "      <td>0.012238</td>\n",
       "      <td>-0.005458</td>\n",
       "      <td>0.025651</td>\n",
       "      <td>-0.001384</td>\n",
       "      <td>-0.027094</td>\n",
       "      <td>-0.002857</td>\n",
       "      <td>0.005538</td>\n",
       "      <td>0.004780</td>\n",
       "    </tr>\n",
       "    <tr>\n",
       "      <th>Age</th>\n",
       "      <td>-0.003965</td>\n",
       "      <td>1.000000</td>\n",
       "      <td>-0.009997</td>\n",
       "      <td>0.028308</td>\n",
       "      <td>-0.030680</td>\n",
       "      <td>-0.011721</td>\n",
       "      <td>0.085472</td>\n",
       "      <td>-0.007201</td>\n",
       "      <td>0.285323</td>\n",
       "      <td>-0.027544</td>\n",
       "      <td>0.046897</td>\n",
       "      <td>-0.001685</td>\n",
       "    </tr>\n",
       "    <tr>\n",
       "      <th>Tenure</th>\n",
       "      <td>0.000842</td>\n",
       "      <td>-0.009997</td>\n",
       "      <td>1.000000</td>\n",
       "      <td>-0.012254</td>\n",
       "      <td>0.013444</td>\n",
       "      <td>0.022583</td>\n",
       "      <td>-0.028362</td>\n",
       "      <td>0.007784</td>\n",
       "      <td>-0.014001</td>\n",
       "      <td>0.014733</td>\n",
       "      <td>-0.000567</td>\n",
       "      <td>0.003868</td>\n",
       "    </tr>\n",
       "    <tr>\n",
       "      <th>Balance</th>\n",
       "      <td>0.006268</td>\n",
       "      <td>0.028308</td>\n",
       "      <td>-0.012254</td>\n",
       "      <td>1.000000</td>\n",
       "      <td>-0.304180</td>\n",
       "      <td>-0.014858</td>\n",
       "      <td>-0.010084</td>\n",
       "      <td>0.012797</td>\n",
       "      <td>0.118533</td>\n",
       "      <td>0.012087</td>\n",
       "      <td>0.401110</td>\n",
       "      <td>-0.134892</td>\n",
       "    </tr>\n",
       "    <tr>\n",
       "      <th>NumOfProducts</th>\n",
       "      <td>0.012238</td>\n",
       "      <td>-0.030680</td>\n",
       "      <td>0.013444</td>\n",
       "      <td>-0.304180</td>\n",
       "      <td>1.000000</td>\n",
       "      <td>0.003183</td>\n",
       "      <td>0.009612</td>\n",
       "      <td>0.014204</td>\n",
       "      <td>-0.047820</td>\n",
       "      <td>-0.021859</td>\n",
       "      <td>-0.010419</td>\n",
       "      <td>0.009039</td>\n",
       "    </tr>\n",
       "    <tr>\n",
       "      <th>HasCrCard</th>\n",
       "      <td>-0.005458</td>\n",
       "      <td>-0.011721</td>\n",
       "      <td>0.022583</td>\n",
       "      <td>-0.014858</td>\n",
       "      <td>0.003183</td>\n",
       "      <td>1.000000</td>\n",
       "      <td>-0.011866</td>\n",
       "      <td>-0.009933</td>\n",
       "      <td>-0.007138</td>\n",
       "      <td>0.005766</td>\n",
       "      <td>0.010577</td>\n",
       "      <td>-0.013480</td>\n",
       "    </tr>\n",
       "    <tr>\n",
       "      <th>IsActiveMember</th>\n",
       "      <td>0.025651</td>\n",
       "      <td>0.085472</td>\n",
       "      <td>-0.028362</td>\n",
       "      <td>-0.010084</td>\n",
       "      <td>0.009612</td>\n",
       "      <td>-0.011866</td>\n",
       "      <td>1.000000</td>\n",
       "      <td>-0.011421</td>\n",
       "      <td>-0.156128</td>\n",
       "      <td>0.022544</td>\n",
       "      <td>-0.020486</td>\n",
       "      <td>0.016732</td>\n",
       "    </tr>\n",
       "    <tr>\n",
       "      <th>EstimatedSalary</th>\n",
       "      <td>-0.001384</td>\n",
       "      <td>-0.007201</td>\n",
       "      <td>0.007784</td>\n",
       "      <td>0.012797</td>\n",
       "      <td>0.014204</td>\n",
       "      <td>-0.009933</td>\n",
       "      <td>-0.011421</td>\n",
       "      <td>1.000000</td>\n",
       "      <td>0.012097</td>\n",
       "      <td>-0.008112</td>\n",
       "      <td>0.010297</td>\n",
       "      <td>-0.006482</td>\n",
       "    </tr>\n",
       "    <tr>\n",
       "      <th>Exited</th>\n",
       "      <td>-0.027094</td>\n",
       "      <td>0.285323</td>\n",
       "      <td>-0.014001</td>\n",
       "      <td>0.118533</td>\n",
       "      <td>-0.047820</td>\n",
       "      <td>-0.007138</td>\n",
       "      <td>-0.156128</td>\n",
       "      <td>0.012097</td>\n",
       "      <td>1.000000</td>\n",
       "      <td>-0.106512</td>\n",
       "      <td>0.173488</td>\n",
       "      <td>-0.052667</td>\n",
       "    </tr>\n",
       "    <tr>\n",
       "      <th>Male</th>\n",
       "      <td>-0.002857</td>\n",
       "      <td>-0.027544</td>\n",
       "      <td>0.014733</td>\n",
       "      <td>0.012087</td>\n",
       "      <td>-0.021859</td>\n",
       "      <td>0.005766</td>\n",
       "      <td>0.022544</td>\n",
       "      <td>-0.008112</td>\n",
       "      <td>-0.106512</td>\n",
       "      <td>1.000000</td>\n",
       "      <td>-0.024628</td>\n",
       "      <td>0.016889</td>\n",
       "    </tr>\n",
       "    <tr>\n",
       "      <th>Germany</th>\n",
       "      <td>0.005538</td>\n",
       "      <td>0.046897</td>\n",
       "      <td>-0.000567</td>\n",
       "      <td>0.401110</td>\n",
       "      <td>-0.010419</td>\n",
       "      <td>0.010577</td>\n",
       "      <td>-0.020486</td>\n",
       "      <td>0.010297</td>\n",
       "      <td>0.173488</td>\n",
       "      <td>-0.024628</td>\n",
       "      <td>1.000000</td>\n",
       "      <td>-0.332084</td>\n",
       "    </tr>\n",
       "    <tr>\n",
       "      <th>Spain</th>\n",
       "      <td>0.004780</td>\n",
       "      <td>-0.001685</td>\n",
       "      <td>0.003868</td>\n",
       "      <td>-0.134892</td>\n",
       "      <td>0.009039</td>\n",
       "      <td>-0.013480</td>\n",
       "      <td>0.016732</td>\n",
       "      <td>-0.006482</td>\n",
       "      <td>-0.052667</td>\n",
       "      <td>0.016889</td>\n",
       "      <td>-0.332084</td>\n",
       "      <td>1.000000</td>\n",
       "    </tr>\n",
       "  </tbody>\n",
       "</table>\n",
       "</div>"
      ],
      "text/plain": [
       "                 CreditScore       Age    Tenure   Balance  NumOfProducts  \\\n",
       "CreditScore         1.000000 -0.003965  0.000842  0.006268       0.012238   \n",
       "Age                -0.003965  1.000000 -0.009997  0.028308      -0.030680   \n",
       "Tenure              0.000842 -0.009997  1.000000 -0.012254       0.013444   \n",
       "Balance             0.006268  0.028308 -0.012254  1.000000      -0.304180   \n",
       "NumOfProducts       0.012238 -0.030680  0.013444 -0.304180       1.000000   \n",
       "HasCrCard          -0.005458 -0.011721  0.022583 -0.014858       0.003183   \n",
       "IsActiveMember      0.025651  0.085472 -0.028362 -0.010084       0.009612   \n",
       "EstimatedSalary    -0.001384 -0.007201  0.007784  0.012797       0.014204   \n",
       "Exited             -0.027094  0.285323 -0.014001  0.118533      -0.047820   \n",
       "Male               -0.002857 -0.027544  0.014733  0.012087      -0.021859   \n",
       "Germany             0.005538  0.046897 -0.000567  0.401110      -0.010419   \n",
       "Spain               0.004780 -0.001685  0.003868 -0.134892       0.009039   \n",
       "\n",
       "                 HasCrCard  IsActiveMember  EstimatedSalary    Exited  \\\n",
       "CreditScore      -0.005458        0.025651        -0.001384 -0.027094   \n",
       "Age              -0.011721        0.085472        -0.007201  0.285323   \n",
       "Tenure            0.022583       -0.028362         0.007784 -0.014001   \n",
       "Balance          -0.014858       -0.010084         0.012797  0.118533   \n",
       "NumOfProducts     0.003183        0.009612         0.014204 -0.047820   \n",
       "HasCrCard         1.000000       -0.011866        -0.009933 -0.007138   \n",
       "IsActiveMember   -0.011866        1.000000        -0.011421 -0.156128   \n",
       "EstimatedSalary  -0.009933       -0.011421         1.000000  0.012097   \n",
       "Exited           -0.007138       -0.156128         0.012097  1.000000   \n",
       "Male              0.005766        0.022544        -0.008112 -0.106512   \n",
       "Germany           0.010577       -0.020486         0.010297  0.173488   \n",
       "Spain            -0.013480        0.016732        -0.006482 -0.052667   \n",
       "\n",
       "                     Male   Germany     Spain  \n",
       "CreditScore     -0.002857  0.005538  0.004780  \n",
       "Age             -0.027544  0.046897 -0.001685  \n",
       "Tenure           0.014733 -0.000567  0.003868  \n",
       "Balance          0.012087  0.401110 -0.134892  \n",
       "NumOfProducts   -0.021859 -0.010419  0.009039  \n",
       "HasCrCard        0.005766  0.010577 -0.013480  \n",
       "IsActiveMember   0.022544 -0.020486  0.016732  \n",
       "EstimatedSalary -0.008112  0.010297 -0.006482  \n",
       "Exited          -0.106512  0.173488 -0.052667  \n",
       "Male             1.000000 -0.024628  0.016889  \n",
       "Germany         -0.024628  1.000000 -0.332084  \n",
       "Spain            0.016889 -0.332084  1.000000  "
      ]
     },
     "execution_count": 129,
     "metadata": {},
     "output_type": "execute_result"
    }
   ],
   "source": [
    "data.corr()"
   ]
  },
  {
   "cell_type": "code",
   "execution_count": 130,
   "metadata": {},
   "outputs": [
    {
     "data": {
      "text/plain": [
       "<AxesSubplot:>"
      ]
     },
     "execution_count": 130,
     "metadata": {},
     "output_type": "execute_result"
    },
    {
     "data": {
      "image/png": "[encoded data removed]",
      "text/plain": [
       "<Figure size 720x576 with 2 Axes>"
      ]
     },
     "metadata": {
      "needs_background": "light"
     },
     "output_type": "display_data"
    }
   ],
   "source": [
    "import seaborn as sns\n",
    "import matplotlib.pyplot as plt\n",
    "\n",
    "plt.figure(figsize=(10,8))\n",
    "sns.heatmap(data.corr(),cmap='rainbow',annot=True,vmin=-1,vmax=1)"
   ]
  },
  {
   "cell_type": "code",
   "execution_count": 131,
   "metadata": {},
   "outputs": [],
   "source": [
    "from sklearn.model_selection import train_test_split"
   ]
  },
  {
   "cell_type": "code",
   "execution_count": 132,
   "metadata": {},
   "outputs": [],
   "source": [
    "y=data[\"Exited\"]\n",
    "data.drop(\"Exited\",axis=1,inplace=True)\n",
    "X=data"
   ]
  },
  {
   "cell_type": "code",
   "execution_count": 133,
   "metadata": {},
   "outputs": [],
   "source": [
    "X_train, X_test, y_train, y_test = train_test_split(X,y, test_size=0.3, random_state=0)"
   ]
  },
  {
   "cell_type": "code",
   "execution_count": 134,
   "metadata": {
    "scrolled": true
   },
   "outputs": [
    {
     "data": {
      "text/plain": [
       "0    5584\n",
       "1    1416\n",
       "Name: Exited, dtype: int64"
      ]
     },
     "execution_count": 134,
     "metadata": {},
     "output_type": "execute_result"
    }
   ],
   "source": [
    "y_train.value_counts()"
   ]
  },
  {
   "cell_type": "code",
   "execution_count": 135,
   "metadata": {
    "scrolled": true
   },
   "outputs": [
    {
     "data": {
      "text/plain": [
       "0    2379\n",
       "1     621\n",
       "Name: Exited, dtype: int64"
      ]
     },
     "execution_count": 135,
     "metadata": {},
     "output_type": "execute_result"
    }
   ],
   "source": [
    "y_test.value_counts()"
   ]
  },
  {
   "cell_type": "code",
   "execution_count": 136,
   "metadata": {},
   "outputs": [],
   "source": [
    "from sklearn.linear_model import LogisticRegression"
   ]
  },
  {
   "cell_type": "code",
   "execution_count": 137,
   "metadata": {},
   "outputs": [
    {
     "data": {
      "text/plain": [
       "LogisticRegression()"
      ]
     },
     "execution_count": 137,
     "metadata": {},
     "output_type": "execute_result"
    }
   ],
   "source": [
    "lr=LogisticRegression()\n",
    "lr.fit(X_train, y_train)"
   ]
  },
  {
   "cell_type": "code",
   "execution_count": 138,
   "metadata": {},
   "outputs": [
    {
     "data": {
      "text/plain": [
       "array([0, 0, 0, ..., 0, 0, 0], dtype=int64)"
      ]
     },
     "execution_count": 138,
     "metadata": {},
     "output_type": "execute_result"
    }
   ],
   "source": [
    "y_pred=lr.predict(X_test)\n",
    "y_pred"
   ]
  },
  {
   "cell_type": "code",
   "execution_count": 139,
   "metadata": {},
   "outputs": [
    {
     "data": {
      "text/plain": [
       "(array([0, 1], dtype=int64), array([2901,   99], dtype=int64))"
      ]
     },
     "execution_count": 139,
     "metadata": {},
     "output_type": "execute_result"
    }
   ],
   "source": [
    "(unique, counts) = np.unique(y_pred, return_counts=True)\n",
    "unique,counts"
   ]
  },
  {
   "cell_type": "code",
   "execution_count": 140,
   "metadata": {},
   "outputs": [],
   "source": [
    "from sklearn.metrics import confusion_matrix, precision_score, recall_score, accuracy_score, f1_score"
   ]
  },
  {
   "cell_type": "code",
   "execution_count": 141,
   "metadata": {},
   "outputs": [
    {
     "data": {
      "text/plain": [
       "array([[2316,   63],\n",
       "       [ 585,   36]], dtype=int64)"
      ]
     },
     "execution_count": 141,
     "metadata": {},
     "output_type": "execute_result"
    }
   ],
   "source": [
    "confusion_matrix(y_test, y_pred)"
   ]
  },
  {
   "cell_type": "code",
   "execution_count": 142,
   "metadata": {},
   "outputs": [
    {
     "name": "stdout",
     "output_type": "stream",
     "text": [
      "p is  0.36363636363636365\n",
      "r is  0.057971014492753624\n",
      "a is  0.784\n",
      "f is  0.1\n"
     ]
    }
   ],
   "source": [
    "p=precision_score(y_test, y_pred)\n",
    "r=recall_score(y_test, y_pred)\n",
    "a=accuracy_score(y_test, y_pred)\n",
    "f=f1_score(y_test,y_pred)\n",
    "\n",
    "print(\"p is \", p )\n",
    "print(\"r is \", r)\n",
    "print(\"a is \", a)\n",
    "print(\"f is \", f)"
   ]
  },
  {
   "cell_type": "code",
   "execution_count": 163,
   "metadata": {},
   "outputs": [],
   "source": [
    "import keras\n",
    "import tensorflow as tf\n",
    "from keras.models import Sequential\n",
    "from keras.layers import Dense\n",
    "from keras.layers import Dropout"
   ]
  },
  {
   "cell_type": "code",
   "execution_count": 181,
   "metadata": {},
   "outputs": [],
   "source": [
    "classifier= Sequential()\n",
    "\n",
    "classifier.add(Dense(units = 32 , kernel_initializer ='he_normal', activation='relu', input_dim = 11))\n",
    "classifier.add(Dense(units = 16 , kernel_initializer ='he_normal', activation='relu'))\n",
    "# classifier.add(Dropout(0.4))\n",
    "classifier.add(Dense(units = 32 , kernel_initializer ='he_normal', activation='relu'))\n",
    "\n",
    "classifier.add(Dense(units = 1 , kernel_initializer ='glorot_uniform', activation='sigmoid'))\n"
   ]
  },
  {
   "cell_type": "code",
   "execution_count": 182,
   "metadata": {},
   "outputs": [
    {
     "name": "stdout",
     "output_type": "stream",
     "text": [
      "Model: \"sequential_4\"\n",
      "_________________________________________________________________\n",
      "Layer (type)                 Output Shape              Param #   \n",
      "=================================================================\n",
      "dense_31 (Dense)             (None, 32)                384       \n",
      "_________________________________________________________________\n",
      "dense_32 (Dense)             (None, 16)                528       \n",
      "_________________________________________________________________\n",
      "dense_33 (Dense)             (None, 32)                544       \n",
      "_________________________________________________________________\n",
      "dense_34 (Dense)             (None, 1)                 33        \n",
      "=================================================================\n",
      "Total params: 1,489\n",
      "Trainable params: 1,489\n",
      "Non-trainable params: 0\n",
      "_________________________________________________________________\n"
     ]
    }
   ],
   "source": [
    "classifier.summary()"
   ]
  },
  {
   "cell_type": "code",
   "execution_count": 183,
   "metadata": {},
   "outputs": [],
   "source": [
    "opt = tf.keras.optimizers.Adam(learning_rate=0.01)\n",
    "classifier.compile(optimizer=opt, loss='binary_crossentropy', metrics=['accuracy'])"
   ]
  },
  {
   "cell_type": "code",
   "execution_count": 184,
   "metadata": {
    "scrolled": true
   },
   "outputs": [
    {
     "name": "stdout",
     "output_type": "stream",
     "text": [
      "Model: \"sequential_4\"\n",
      "_________________________________________________________________\n",
      "Layer (type)                 Output Shape              Param #   \n",
      "=================================================================\n",
      "dense_31 (Dense)             (None, 32)                384       \n",
      "_________________________________________________________________\n",
      "dense_32 (Dense)             (None, 16)                528       \n",
      "_________________________________________________________________\n",
      "dense_33 (Dense)             (None, 32)                544       \n",
      "_________________________________________________________________\n",
      "dense_34 (Dense)             (None, 1)                 33        \n",
      "=================================================================\n",
      "Total params: 1,489\n",
      "Trainable params: 1,489\n",
      "Non-trainable params: 0\n",
      "_________________________________________________________________\n"
     ]
    }
   ],
   "source": [
    "classifier.summary()"
   ]
  },
  {
   "cell_type": "code",
   "execution_count": 185,
   "metadata": {},
   "outputs": [
    {
     "name": "stdout",
     "output_type": "stream",
     "text": [
      "Epoch 1/100\n",
      "469/469 [==============================] - 1s 1ms/step - loss: 1062.3972 - accuracy: 0.6934 - val_loss: 5.4445 - val_accuracy: 0.5353\n",
      "Epoch 2/100\n",
      "469/469 [==============================] - 0s 837us/step - loss: 0.6435 - accuracy: 0.7820 - val_loss: 0.5175 - val_accuracy: 0.7962\n",
      "Epoch 3/100\n",
      "469/469 [==============================] - 0s 847us/step - loss: 0.5105 - accuracy: 0.7947 - val_loss: 0.5073 - val_accuracy: 0.7962\n",
      "Epoch 4/100\n",
      "469/469 [==============================] - 0s 851us/step - loss: 0.5070 - accuracy: 0.7952 - val_loss: 0.5070 - val_accuracy: 0.7962\n",
      "Epoch 5/100\n",
      "469/469 [==============================] - 0s 855us/step - loss: 0.4996 - accuracy: 0.8004 - val_loss: 0.5068 - val_accuracy: 0.7962\n",
      "Epoch 6/100\n",
      "469/469 [==============================] - 0s 851us/step - loss: 0.4992 - accuracy: 0.8005 - val_loss: 0.5069 - val_accuracy: 0.7962\n",
      "Epoch 7/100\n",
      "469/469 [==============================] - 0s 842us/step - loss: 0.5011 - accuracy: 0.7996 - val_loss: 0.5065 - val_accuracy: 0.7962\n",
      "Epoch 8/100\n",
      "469/469 [==============================] - 0s 873us/step - loss: 0.5086 - accuracy: 0.7936 - val_loss: 0.5068 - val_accuracy: 0.7962\n",
      "Epoch 9/100\n",
      "469/469 [==============================] - 0s 837us/step - loss: 0.4978 - accuracy: 0.8018 - val_loss: 0.5065 - val_accuracy: 0.7962\n",
      "Epoch 10/100\n",
      "469/469 [==============================] - 0s 840us/step - loss: 0.4929 - accuracy: 0.8056 - val_loss: 0.5063 - val_accuracy: 0.7962\n",
      "Epoch 11/100\n",
      "469/469 [==============================] - 0s 859us/step - loss: 0.5092 - accuracy: 0.7937 - val_loss: 0.5068 - val_accuracy: 0.7962\n",
      "Epoch 12/100\n",
      "469/469 [==============================] - 0s 877us/step - loss: 0.4949 - accuracy: 0.8038 - val_loss: 0.5078 - val_accuracy: 0.7962\n",
      "Epoch 13/100\n",
      "469/469 [==============================] - 0s 981us/step - loss: 0.5065 - accuracy: 0.7955 - val_loss: 0.5065 - val_accuracy: 0.7962\n",
      "Epoch 14/100\n",
      "469/469 [==============================] - 0s 855us/step - loss: 0.4980 - accuracy: 0.8016 - val_loss: 0.5064 - val_accuracy: 0.7962\n",
      "Epoch 15/100\n",
      "469/469 [==============================] - 0s 1ms/step - loss: 0.4995 - accuracy: 0.8010 - val_loss: 0.5100 - val_accuracy: 0.7962\n",
      "Epoch 16/100\n",
      "469/469 [==============================] - 0s 881us/step - loss: 1.3879 - accuracy: 0.8031 - val_loss: 0.5057 - val_accuracy: 0.7962\n",
      "Epoch 17/100\n",
      "469/469 [==============================] - 0s 845us/step - loss: 0.5078 - accuracy: 0.7979 - val_loss: 0.5061 - val_accuracy: 0.7962\n",
      "Epoch 18/100\n",
      "469/469 [==============================] - 0s 865us/step - loss: 0.4941 - accuracy: 0.8046 - val_loss: 0.5056 - val_accuracy: 0.7962\n",
      "Epoch 19/100\n",
      "469/469 [==============================] - 0s 857us/step - loss: 0.4950 - accuracy: 0.8047 - val_loss: 0.5058 - val_accuracy: 0.7962\n",
      "Epoch 20/100\n",
      "469/469 [==============================] - 0s 843us/step - loss: 0.5062 - accuracy: 0.7962 - val_loss: 0.5057 - val_accuracy: 0.7962\n",
      "Epoch 21/100\n",
      "469/469 [==============================] - 0s 873us/step - loss: 0.5178 - accuracy: 0.7879 - val_loss: 0.5080 - val_accuracy: 0.7962\n",
      "Epoch 22/100\n",
      "469/469 [==============================] - 0s 877us/step - loss: 0.5009 - accuracy: 0.8005 - val_loss: 0.5061 - val_accuracy: 0.7962\n",
      "Epoch 23/100\n",
      "469/469 [==============================] - 0s 867us/step - loss: 0.4987 - accuracy: 0.8023 - val_loss: 0.5063 - val_accuracy: 0.7962\n",
      "Epoch 24/100\n",
      "469/469 [==============================] - 0s 853us/step - loss: 0.5058 - accuracy: 0.7968 - val_loss: 0.5069 - val_accuracy: 0.7962\n",
      "Epoch 25/100\n",
      "469/469 [==============================] - 0s 955us/step - loss: 0.4948 - accuracy: 0.8045 - val_loss: 0.5056 - val_accuracy: 0.7962\n",
      "Epoch 26/100\n",
      "469/469 [==============================] - 0s 841us/step - loss: 0.4863 - accuracy: 0.8101 - val_loss: 0.5057 - val_accuracy: 0.7962\n",
      "Epoch 27/100\n",
      "469/469 [==============================] - 0s 877us/step - loss: 0.5013 - accuracy: 0.8002 - val_loss: 0.5090 - val_accuracy: 0.7962\n",
      "Epoch 28/100\n",
      "469/469 [==============================] - 0s 960us/step - loss: 0.5026 - accuracy: 0.7998 - val_loss: 0.5060 - val_accuracy: 0.7962\n",
      "Epoch 29/100\n",
      "469/469 [==============================] - 0s 857us/step - loss: 0.5007 - accuracy: 0.7999 - val_loss: 0.5057 - val_accuracy: 0.7962\n",
      "Epoch 30/100\n",
      "469/469 [==============================] - 0s 861us/step - loss: 0.4972 - accuracy: 0.8028 - val_loss: 0.5058 - val_accuracy: 0.7962\n",
      "Epoch 31/100\n",
      "469/469 [==============================] - 0s 846us/step - loss: 0.5035 - accuracy: 0.7986 - val_loss: 0.5076 - val_accuracy: 0.7962\n",
      "Epoch 32/100\n",
      "469/469 [==============================] - 0s 860us/step - loss: 0.5025 - accuracy: 0.7991 - val_loss: 0.5057 - val_accuracy: 0.7962\n",
      "Epoch 33/100\n",
      "469/469 [==============================] - 0s 854us/step - loss: 0.5007 - accuracy: 0.8003 - val_loss: 0.5060 - val_accuracy: 0.7962\n",
      "Epoch 34/100\n",
      "469/469 [==============================] - 0s 852us/step - loss: 0.4978 - accuracy: 0.8024 - val_loss: 0.5059 - val_accuracy: 0.7962\n",
      "Epoch 35/100\n",
      "469/469 [==============================] - 0s 1ms/step - loss: 0.5002 - accuracy: 0.8005 - val_loss: 0.5056 - val_accuracy: 0.7962\n",
      "Epoch 36/100\n",
      "469/469 [==============================] - 0s 843us/step - loss: 0.4995 - accuracy: 0.8016 - val_loss: 0.5057 - val_accuracy: 0.7962\n",
      "Epoch 37/100\n",
      "469/469 [==============================] - 0s 821us/step - loss: 0.4912 - accuracy: 0.8073 - val_loss: 0.5056 - val_accuracy: 0.7962\n",
      "Epoch 38/100\n",
      "469/469 [==============================] - 0s 1ms/step - loss: 0.5133 - accuracy: 0.7910 - val_loss: 0.5057 - val_accuracy: 0.7962\n",
      "Epoch 39/100\n",
      "469/469 [==============================] - 0s 868us/step - loss: 0.5096 - accuracy: 0.7938 - val_loss: 0.5056 - val_accuracy: 0.7962\n",
      "Epoch 40/100\n",
      "469/469 [==============================] - 0s 954us/step - loss: 0.4979 - accuracy: 0.8023 - val_loss: 0.5058 - val_accuracy: 0.7962\n",
      "Epoch 41/100\n",
      "469/469 [==============================] - 0s 870us/step - loss: 0.4934 - accuracy: 0.8059 - val_loss: 0.5064 - val_accuracy: 0.7962\n",
      "Epoch 42/100\n",
      "469/469 [==============================] - 0s 1ms/step - loss: 0.5148 - accuracy: 0.7897 - val_loss: 0.5062 - val_accuracy: 0.7962\n",
      "Epoch 43/100\n",
      "469/469 [==============================] - 0s 972us/step - loss: 0.5014 - accuracy: 0.7997 - val_loss: 0.5069 - val_accuracy: 0.7962\n",
      "Epoch 44/100\n",
      "469/469 [==============================] - 0s 874us/step - loss: 0.5024 - accuracy: 0.7988 - val_loss: 0.5064 - val_accuracy: 0.7962\n",
      "Epoch 45/100\n",
      "469/469 [==============================] - 0s 954us/step - loss: 0.5114 - accuracy: 0.7929 - val_loss: 0.5064 - val_accuracy: 0.7962\n",
      "Epoch 46/100\n",
      "469/469 [==============================] - 0s 882us/step - loss: 0.4991 - accuracy: 0.8013 - val_loss: 0.5057 - val_accuracy: 0.7962\n",
      "Epoch 47/100\n",
      "469/469 [==============================] - 1s 1ms/step - loss: 0.5026 - accuracy: 0.7988 - val_loss: 0.5056 - val_accuracy: 0.7962\n",
      "Epoch 48/100\n",
      "469/469 [==============================] - 0s 879us/step - loss: 0.5009 - accuracy: 0.8002 - val_loss: 0.5056 - val_accuracy: 0.7962\n",
      "Epoch 49/100\n",
      "469/469 [==============================] - 0s 914us/step - loss: 0.4975 - accuracy: 0.8027 - val_loss: 0.5057 - val_accuracy: 0.7962\n",
      "Epoch 50/100\n",
      "469/469 [==============================] - 0s 915us/step - loss: 0.4975 - accuracy: 0.8028 - val_loss: 0.5056 - val_accuracy: 0.7962\n",
      "Epoch 51/100\n",
      "469/469 [==============================] - 0s 868us/step - loss: 0.4976 - accuracy: 0.8023 - val_loss: 0.5057 - val_accuracy: 0.7962\n",
      "Epoch 52/100\n",
      "469/469 [==============================] - 0s 866us/step - loss: 0.5006 - accuracy: 0.8003 - val_loss: 0.5058 - val_accuracy: 0.7962\n",
      "Epoch 53/100\n",
      "469/469 [==============================] - 0s 888us/step - loss: 0.4934 - accuracy: 0.8053 - val_loss: 0.5058 - val_accuracy: 0.7962\n",
      "Epoch 54/100\n",
      "469/469 [==============================] - 0s 1ms/step - loss: 0.4989 - accuracy: 0.8015 - val_loss: 0.5057 - val_accuracy: 0.7962\n",
      "Epoch 55/100\n",
      "469/469 [==============================] - 1s 1ms/step - loss: 0.5012 - accuracy: 0.7997 - val_loss: 0.5058 - val_accuracy: 0.7962\n",
      "Epoch 56/100\n",
      "469/469 [==============================] - 1s 1ms/step - loss: 0.5057 - accuracy: 0.7963 - val_loss: 0.5056 - val_accuracy: 0.7962\n",
      "Epoch 57/100\n"
     ]
    },
    {
     "name": "stdout",
     "output_type": "stream",
     "text": [
      "469/469 [==============================] - 0s 1ms/step - loss: 0.4928 - accuracy: 0.8057 - val_loss: 0.5058 - val_accuracy: 0.7962\n",
      "Epoch 58/100\n",
      "469/469 [==============================] - 0s 829us/step - loss: 0.4925 - accuracy: 0.8056 - val_loss: 0.5069 - val_accuracy: 0.7962\n",
      "Epoch 59/100\n",
      "469/469 [==============================] - 0s 847us/step - loss: 0.4897 - accuracy: 0.8089 - val_loss: 0.5057 - val_accuracy: 0.7962\n",
      "Epoch 60/100\n",
      "469/469 [==============================] - 0s 984us/step - loss: 0.4966 - accuracy: 0.8030 - val_loss: 0.5057 - val_accuracy: 0.7962\n",
      "Epoch 61/100\n",
      "469/469 [==============================] - 0s 976us/step - loss: 0.5029 - accuracy: 0.7984 - val_loss: 0.5058 - val_accuracy: 0.7962\n",
      "Epoch 62/100\n",
      "469/469 [==============================] - 0s 899us/step - loss: 0.5026 - accuracy: 0.7988 - val_loss: 0.5057 - val_accuracy: 0.7962\n",
      "Epoch 63/100\n",
      "469/469 [==============================] - 0s 858us/step - loss: 0.5070 - accuracy: 0.7955 - val_loss: 0.5056 - val_accuracy: 0.7962\n",
      "Epoch 64/100\n",
      "469/469 [==============================] - 0s 866us/step - loss: 0.5059 - accuracy: 0.7963 - val_loss: 0.5058 - val_accuracy: 0.7962\n",
      "Epoch 65/100\n",
      "469/469 [==============================] - 0s 827us/step - loss: 0.5057 - accuracy: 0.7965 - val_loss: 0.5058 - val_accuracy: 0.7962\n",
      "Epoch 66/100\n",
      "469/469 [==============================] - 0s 1ms/step - loss: 0.5025 - accuracy: 0.7988 - val_loss: 0.5056 - val_accuracy: 0.7962\n",
      "Epoch 67/100\n",
      "469/469 [==============================] - 0s 936us/step - loss: 0.5002 - accuracy: 0.8004 - val_loss: 0.5060 - val_accuracy: 0.7962\n",
      "Epoch 68/100\n",
      "469/469 [==============================] - 0s 871us/step - loss: 0.5179 - accuracy: 0.7878 - val_loss: 0.5063 - val_accuracy: 0.7962\n",
      "Epoch 69/100\n",
      "469/469 [==============================] - 0s 968us/step - loss: 0.5021 - accuracy: 0.7990 - val_loss: 0.5056 - val_accuracy: 0.7962\n",
      "Epoch 70/100\n",
      "469/469 [==============================] - 0s 902us/step - loss: 0.5019 - accuracy: 0.7992 - val_loss: 0.5058 - val_accuracy: 0.7962\n",
      "Epoch 71/100\n",
      "469/469 [==============================] - 0s 901us/step - loss: 0.4921 - accuracy: 0.8064 - val_loss: 0.5059 - val_accuracy: 0.7962\n",
      "Epoch 72/100\n",
      "469/469 [==============================] - 0s 836us/step - loss: 0.5041 - accuracy: 0.7977 - val_loss: 0.5056 - val_accuracy: 0.7962\n",
      "Epoch 73/100\n",
      "469/469 [==============================] - 1s 1ms/step - loss: 0.5071 - accuracy: 0.7954 - val_loss: 0.5063 - val_accuracy: 0.7962\n",
      "Epoch 74/100\n",
      "469/469 [==============================] - 0s 897us/step - loss: 0.5066 - accuracy: 0.7960 - val_loss: 0.5065 - val_accuracy: 0.7962\n",
      "Epoch 75/100\n",
      "469/469 [==============================] - 0s 1ms/step - loss: 0.5211 - accuracy: 0.7855 - val_loss: 0.5064 - val_accuracy: 0.7962\n",
      "Epoch 76/100\n",
      "469/469 [==============================] - 1s 1ms/step - loss: 0.5114 - accuracy: 0.7927 - val_loss: 0.5058 - val_accuracy: 0.7962\n",
      "Epoch 77/100\n",
      "469/469 [==============================] - 0s 870us/step - loss: 0.4978 - accuracy: 0.8021 - val_loss: 0.5057 - val_accuracy: 0.7962\n",
      "Epoch 78/100\n",
      "469/469 [==============================] - 0s 838us/step - loss: 0.5047 - accuracy: 0.7971 - val_loss: 0.5057 - val_accuracy: 0.7962\n",
      "Epoch 79/100\n",
      "469/469 [==============================] - 0s 1ms/step - loss: 0.4943 - accuracy: 0.8047 - val_loss: 0.5065 - val_accuracy: 0.7962\n",
      "Epoch 80/100\n",
      "469/469 [==============================] - 0s 800us/step - loss: 0.5016 - accuracy: 0.7996 - val_loss: 0.5062 - val_accuracy: 0.7962\n",
      "Epoch 81/100\n",
      "469/469 [==============================] - 0s 926us/step - loss: 0.5102 - accuracy: 0.7935 - val_loss: 0.5057 - val_accuracy: 0.7962\n",
      "Epoch 82/100\n",
      "469/469 [==============================] - 1s 1ms/step - loss: 0.4925 - accuracy: 0.8061 - val_loss: 0.5057 - val_accuracy: 0.7962\n",
      "Epoch 83/100\n",
      "469/469 [==============================] - 0s 796us/step - loss: 0.5058 - accuracy: 0.7964 - val_loss: 0.5057 - val_accuracy: 0.7962\n",
      "Epoch 84/100\n",
      "469/469 [==============================] - 0s 810us/step - loss: 0.4922 - accuracy: 0.8060 - val_loss: 0.5065 - val_accuracy: 0.7962\n",
      "Epoch 85/100\n",
      "469/469 [==============================] - 0s 805us/step - loss: 0.5009 - accuracy: 0.8005 - val_loss: 0.5056 - val_accuracy: 0.7962\n",
      "Epoch 86/100\n",
      "469/469 [==============================] - 0s 888us/step - loss: 0.5016 - accuracy: 0.7994 - val_loss: 0.5057 - val_accuracy: 0.7962\n",
      "Epoch 87/100\n",
      "469/469 [==============================] - 0s 874us/step - loss: 0.5019 - accuracy: 0.7994 - val_loss: 0.5057 - val_accuracy: 0.7962\n",
      "Epoch 88/100\n",
      "469/469 [==============================] - 0s 807us/step - loss: 0.4979 - accuracy: 0.8021 - val_loss: 0.5056 - val_accuracy: 0.7962\n",
      "Epoch 89/100\n",
      "469/469 [==============================] - 0s 852us/step - loss: 0.5038 - accuracy: 0.7978 - val_loss: 0.5058 - val_accuracy: 0.7962\n",
      "Epoch 90/100\n",
      "469/469 [==============================] - 0s 808us/step - loss: 0.4938 - accuracy: 0.8054 - val_loss: 0.5056 - val_accuracy: 0.7962\n",
      "Epoch 91/100\n",
      "469/469 [==============================] - 0s 796us/step - loss: 0.5024 - accuracy: 0.7987 - val_loss: 0.5057 - val_accuracy: 0.7962\n",
      "Epoch 92/100\n",
      "469/469 [==============================] - 0s 813us/step - loss: 0.5015 - accuracy: 0.7994 - val_loss: 0.5057 - val_accuracy: 0.7962\n",
      "Epoch 93/100\n",
      "469/469 [==============================] - 0s 810us/step - loss: 0.5022 - accuracy: 0.7986 - val_loss: 0.5056 - val_accuracy: 0.7962\n",
      "Epoch 94/100\n",
      "469/469 [==============================] - 0s 827us/step - loss: 0.5069 - accuracy: 0.7956 - val_loss: 0.5057 - val_accuracy: 0.7962\n",
      "Epoch 95/100\n",
      "469/469 [==============================] - 0s 889us/step - loss: 0.5090 - accuracy: 0.7940 - val_loss: 0.5060 - val_accuracy: 0.7962\n",
      "Epoch 96/100\n",
      "469/469 [==============================] - 0s 816us/step - loss: 0.5010 - accuracy: 0.7999 - val_loss: 0.5057 - val_accuracy: 0.7962\n",
      "Epoch 97/100\n",
      "469/469 [==============================] - 0s 807us/step - loss: 0.4958 - accuracy: 0.8037 - val_loss: 0.5060 - val_accuracy: 0.7962\n",
      "Epoch 98/100\n",
      "469/469 [==============================] - 0s 810us/step - loss: 0.5088 - accuracy: 0.7941 - val_loss: 0.5057 - val_accuracy: 0.7962\n",
      "Epoch 99/100\n",
      "469/469 [==============================] - 0s 808us/step - loss: 0.4948 - accuracy: 0.8044 - val_loss: 0.5056 - val_accuracy: 0.7962\n",
      "Epoch 100/100\n",
      "469/469 [==============================] - 0s 799us/step - loss: 0.5009 - accuracy: 0.7998 - val_loss: 0.5058 - val_accuracy: 0.7962\n"
     ]
    }
   ],
   "source": [
    "model_history=classifier.fit(X_train, y_train, validation_split=0.33, batch_size=10, epochs=100)"
   ]
  },
  {
   "cell_type": "code",
   "execution_count": 186,
   "metadata": {},
   "outputs": [
    {
     "data": {
      "text/plain": [
       "array([[False],\n",
       "       [False],\n",
       "       [False],\n",
       "       ...,\n",
       "       [False],\n",
       "       [False],\n",
       "       [False]])"
      ]
     },
     "execution_count": 186,
     "metadata": {},
     "output_type": "execute_result"
    }
   ],
   "source": [
    "y_pred = classifier.predict(X_test)\n",
    "y_pred = (y_pred>0.5)\n",
    "y_pred"
   ]
  },
  {
   "cell_type": "code",
   "execution_count": 187,
   "metadata": {},
   "outputs": [
    {
     "data": {
      "text/plain": [
       "0.793"
      ]
     },
     "execution_count": 187,
     "metadata": {},
     "output_type": "execute_result"
    }
   ],
   "source": [
    "score=accuracy_score(y_pred,y_test)\n",
    "score"
   ]
  },
  {
   "cell_type": "code",
   "execution_count": 188,
   "metadata": {},
   "outputs": [
    {
     "data": {
      "text/plain": [
       "array([[2379,    0],\n",
       "       [ 621,    0]], dtype=int64)"
      ]
     },
     "execution_count": 188,
     "metadata": {},
     "output_type": "execute_result"
    }
   ],
   "source": [
    "from sklearn.metrics import confusion_matrix\n",
    "confusion_matrix(y_test, y_pred)"
   ]
  },
  {
   "cell_type": "code",
   "execution_count": 180,
   "metadata": {},
   "outputs": [
    {
     "data": {
      "text/plain": [
       "(array([False]), array([3000], dtype=int64))"
      ]
     },
     "execution_count": 180,
     "metadata": {},
     "output_type": "execute_result"
    }
   ],
   "source": [
    "(unique, counts) = np.unique(y_pred, return_counts=True)\n",
    "unique,counts"
   ]
  },
  {
   "cell_type": "code",
   "execution_count": 189,
   "metadata": {},
   "outputs": [],
   "source": [
    "from keras_tuner.tuners import RandomSearch\n",
    "from tensorflow import keras\n",
    "from tensorflow.keras import layers"
   ]
  },
  {
   "cell_type": "code",
   "execution_count": 201,
   "metadata": {},
   "outputs": [],
   "source": [
    "def build_model(hp):\n",
    "    model = keras.Sequential()\n",
    "    for i in range(hp.Int('num_layers', 3, 10)):\n",
    "        model.add(layers.Dense(units=hp.Int('units' + str(i),min_value=2,max_value=16),activation='relu'))\n",
    "        \n",
    "    model.add(layers.Dense(1, activation='linear'))\n",
    "    model.compile(optimizer=keras.optimizers.Adam(hp.Choice('learning_rate', [1e-2, 1e-3, 1e-4])),\n",
    "        loss='mean_absolute_error',\n",
    "        metrics=['accuracy'])\n",
    "    return model\n",
    "\n",
    "# ,step=32"
   ]
  },
  {
   "cell_type": "code",
   "execution_count": 204,
   "metadata": {},
   "outputs": [],
   "source": [
    "tuner = RandomSearch(\n",
    "    build_model,\n",
    "    objective='val_loss',\n",
    "    max_trials=5,\n",
    "    directory='output2')\n",
    "# tuner.search_space_summary()"
   ]
  },
  {
   "cell_type": "code",
   "execution_count": 205,
   "metadata": {},
   "outputs": [
    {
     "name": "stdout",
     "output_type": "stream",
     "text": [
      "Trial 5 Complete [00h 00m 01s]\n",
      "val_loss: 0.20729367434978485\n",
      "\n",
      "Best val_loss So Far: 0.20698663592338562\n",
      "Total elapsed time: 00h 00m 08s\n",
      "INFO:tensorflow:Oracle triggered exit\n"
     ]
    }
   ],
   "source": [
    "tuner.search(X_train, y_train, epochs=5, validation_data=(X_test, y_test))"
   ]
  },
  {
   "cell_type": "code",
   "execution_count": 207,
   "metadata": {},
   "outputs": [],
   "source": [
    "best_model = tuner.get_best_models()[0]"
   ]
  },
  {
   "cell_type": "code",
   "execution_count": 208,
   "metadata": {
    "collapsed": true
   },
   "outputs": [
    {
     "name": "stdout",
     "output_type": "stream",
     "text": [
      "Results summary\n",
      "Results in output2\\untitled_project\n",
      "Showing 10 best trials\n",
      "Objective(name='val_loss', direction='min')\n",
      "Trial summary\n",
      "Hyperparameters:\n",
      "num_layers: 7\n",
      "units0: 15\n",
      "units1: 4\n",
      "units2: 13\n",
      "learning_rate: 0.001\n",
      "units3: 5\n",
      "units4: 14\n",
      "units5: 3\n",
      "units6: 8\n",
      "Score: 0.20698663592338562\n",
      "Trial summary\n",
      "Hyperparameters:\n",
      "num_layers: 7\n",
      "units0: 8\n",
      "units1: 7\n",
      "units2: 6\n",
      "learning_rate: 0.0001\n",
      "units3: 2\n",
      "units4: 2\n",
      "units5: 2\n",
      "units6: 2\n",
      "Score: 0.207005113363266\n",
      "Trial summary\n",
      "Hyperparameters:\n",
      "num_layers: 6\n",
      "units0: 5\n",
      "units1: 8\n",
      "units2: 7\n",
      "learning_rate: 0.001\n",
      "units3: 8\n",
      "units4: 14\n",
      "units5: 3\n",
      "units6: 7\n",
      "units7: 15\n",
      "Score: 0.20729367434978485\n",
      "Trial summary\n",
      "Hyperparameters:\n",
      "num_layers: 6\n",
      "units0: 14\n",
      "units1: 5\n",
      "units2: 8\n",
      "learning_rate: 0.01\n",
      "units3: 9\n",
      "units4: 8\n",
      "units5: 7\n",
      "units6: 12\n",
      "Score: 1.0054314136505127\n",
      "Trial summary\n",
      "Hyperparameters:\n",
      "num_layers: 8\n",
      "units0: 9\n",
      "units1: 3\n",
      "units2: 16\n",
      "learning_rate: 0.0001\n",
      "units3: 3\n",
      "units4: 3\n",
      "units5: 12\n",
      "units6: 3\n",
      "units7: 2\n",
      "Score: 44.13162612915039\n"
     ]
    }
   ],
   "source": [
    "tuner.results_summary()"
   ]
  },
  {
   "cell_type": "code",
   "execution_count": 209,
   "metadata": {},
   "outputs": [
    {
     "name": "stdout",
     "output_type": "stream",
     "text": [
      "94/94 - 0s - loss: 0.2070 - accuracy: 0.7930\n"
     ]
    }
   ],
   "source": [
    "test_loss, test_acc = best_model.evaluate(X_test,y_test, verbose=2)"
   ]
  },
  {
   "cell_type": "code",
   "execution_count": 210,
   "metadata": {},
   "outputs": [
    {
     "name": "stdout",
     "output_type": "stream",
     "text": [
      "Model: \"sequential\"\n",
      "_________________________________________________________________\n",
      "Layer (type)                 Output Shape              Param #   \n",
      "=================================================================\n",
      "dense (Dense)                (None, 15)                180       \n",
      "_________________________________________________________________\n",
      "dense_1 (Dense)              (None, 4)                 64        \n",
      "_________________________________________________________________\n",
      "dense_2 (Dense)              (None, 13)                65        \n",
      "_________________________________________________________________\n",
      "dense_3 (Dense)              (None, 5)                 70        \n",
      "_________________________________________________________________\n",
      "dense_4 (Dense)              (None, 14)                84        \n",
      "_________________________________________________________________\n",
      "dense_5 (Dense)              (None, 3)                 45        \n",
      "_________________________________________________________________\n",
      "dense_6 (Dense)              (None, 8)                 32        \n",
      "_________________________________________________________________\n",
      "dense_7 (Dense)              (None, 1)                 9         \n",
      "=================================================================\n",
      "Total params: 549\n",
      "Trainable params: 549\n",
      "Non-trainable params: 0\n",
      "_________________________________________________________________\n"
     ]
    }
   ],
   "source": [
    "best_model.summary()"
   ]
  },
  {
   "cell_type": "code",
   "execution_count": 211,
   "metadata": {},
   "outputs": [
    {
     "name": "stdout",
     "output_type": "stream",
     "text": [
      "Epoch 1/100\n",
      "469/469 [==============================] - 1s 927us/step - loss: 0.2018 - accuracy: 0.7985 - val_loss: 0.2040 - val_accuracy: 0.7962\n",
      "Epoch 2/100\n",
      "469/469 [==============================] - 0s 928us/step - loss: 0.2017 - accuracy: 0.7985 - val_loss: 0.2038 - val_accuracy: 0.7962\n",
      "Epoch 3/100\n",
      "469/469 [==============================] - 0s 929us/step - loss: 0.2016 - accuracy: 0.7985 - val_loss: 0.2039 - val_accuracy: 0.7962\n",
      "Epoch 4/100\n",
      "469/469 [==============================] - 1s 1ms/step - loss: 0.2016 - accuracy: 0.7985 - val_loss: 0.2040 - val_accuracy: 0.7962\n",
      "Epoch 5/100\n",
      "469/469 [==============================] - 0s 888us/step - loss: 0.2016 - accuracy: 0.7985 - val_loss: 0.2039 - val_accuracy: 0.7962\n",
      "Epoch 6/100\n",
      "469/469 [==============================] - 0s 884us/step - loss: 0.2017 - accuracy: 0.7985 - val_loss: 0.2040 - val_accuracy: 0.7962\n",
      "Epoch 7/100\n",
      "469/469 [==============================] - 0s 883us/step - loss: 0.2016 - accuracy: 0.7985 - val_loss: 0.2038 - val_accuracy: 0.7962\n",
      "Epoch 8/100\n",
      "469/469 [==============================] - 0s 888us/step - loss: 0.2016 - accuracy: 0.7985 - val_loss: 0.2040 - val_accuracy: 0.7962\n",
      "Epoch 9/100\n",
      "469/469 [==============================] - 0s 890us/step - loss: 0.2016 - accuracy: 0.7985 - val_loss: 0.2039 - val_accuracy: 0.7962\n",
      "Epoch 10/100\n",
      "469/469 [==============================] - 0s 885us/step - loss: 0.2016 - accuracy: 0.7985 - val_loss: 0.2038 - val_accuracy: 0.7962\n",
      "Epoch 11/100\n",
      "469/469 [==============================] - 0s 897us/step - loss: 0.2017 - accuracy: 0.7985 - val_loss: 0.2039 - val_accuracy: 0.7962\n",
      "Epoch 12/100\n",
      "469/469 [==============================] - 0s 899us/step - loss: 0.2016 - accuracy: 0.7985 - val_loss: 0.2039 - val_accuracy: 0.7962\n",
      "Epoch 13/100\n",
      "469/469 [==============================] - 0s 1ms/step - loss: 0.2017 - accuracy: 0.7985 - val_loss: 0.2038 - val_accuracy: 0.7962\n",
      "Epoch 14/100\n",
      "469/469 [==============================] - 1s 1ms/step - loss: 0.2017 - accuracy: 0.7985 - val_loss: 0.2038 - val_accuracy: 0.7962\n",
      "Epoch 15/100\n",
      "469/469 [==============================] - 0s 902us/step - loss: 0.2016 - accuracy: 0.7985 - val_loss: 0.2039 - val_accuracy: 0.7962\n",
      "Epoch 16/100\n",
      "469/469 [==============================] - 0s 883us/step - loss: 0.2016 - accuracy: 0.7985 - val_loss: 0.2040 - val_accuracy: 0.7962\n",
      "Epoch 17/100\n",
      "469/469 [==============================] - 0s 883us/step - loss: 0.2016 - accuracy: 0.7985 - val_loss: 0.2040 - val_accuracy: 0.7962\n",
      "Epoch 18/100\n",
      "469/469 [==============================] - 0s 891us/step - loss: 0.2016 - accuracy: 0.7985 - val_loss: 0.2039 - val_accuracy: 0.7962\n",
      "Epoch 19/100\n",
      "469/469 [==============================] - 0s 876us/step - loss: 0.2017 - accuracy: 0.7985 - val_loss: 0.2039 - val_accuracy: 0.7962\n",
      "Epoch 20/100\n",
      "469/469 [==============================] - 0s 899us/step - loss: 0.2016 - accuracy: 0.7985 - val_loss: 0.2038 - val_accuracy: 0.7962\n",
      "Epoch 21/100\n",
      "469/469 [==============================] - 0s 890us/step - loss: 0.2017 - accuracy: 0.7985 - val_loss: 0.2039 - val_accuracy: 0.7962\n",
      "Epoch 22/100\n",
      "469/469 [==============================] - 0s 1ms/step - loss: 0.2017 - accuracy: 0.7985 - val_loss: 0.2040 - val_accuracy: 0.7962\n",
      "Epoch 23/100\n",
      "469/469 [==============================] - 0s 888us/step - loss: 0.2017 - accuracy: 0.7985 - val_loss: 0.2040 - val_accuracy: 0.7962\n",
      "Epoch 24/100\n",
      "469/469 [==============================] - 0s 1ms/step - loss: 0.2017 - accuracy: 0.7985 - val_loss: 0.2040 - val_accuracy: 0.7962\n",
      "Epoch 25/100\n",
      "469/469 [==============================] - 0s 946us/step - loss: 0.2016 - accuracy: 0.7985 - val_loss: 0.2040 - val_accuracy: 0.7962\n",
      "Epoch 26/100\n",
      "469/469 [==============================] - 0s 876us/step - loss: 0.2017 - accuracy: 0.7985 - val_loss: 0.2040 - val_accuracy: 0.7962\n",
      "Epoch 27/100\n",
      "469/469 [==============================] - 0s 911us/step - loss: 0.2016 - accuracy: 0.7985 - val_loss: 0.2039 - val_accuracy: 0.7962\n",
      "Epoch 28/100\n",
      "469/469 [==============================] - 0s 895us/step - loss: 0.2017 - accuracy: 0.7985 - val_loss: 0.2041 - val_accuracy: 0.7962\n",
      "Epoch 29/100\n",
      "469/469 [==============================] - 0s 890us/step - loss: 0.2017 - accuracy: 0.7985 - val_loss: 0.2039 - val_accuracy: 0.7962\n",
      "Epoch 30/100\n",
      "469/469 [==============================] - 0s 877us/step - loss: 0.2016 - accuracy: 0.7985 - val_loss: 0.2038 - val_accuracy: 0.7962\n",
      "Epoch 31/100\n",
      "469/469 [==============================] - 0s 909us/step - loss: 0.2016 - accuracy: 0.7985 - val_loss: 0.2038 - val_accuracy: 0.7962\n",
      "Epoch 32/100\n",
      "469/469 [==============================] - 0s 1ms/step - loss: 0.2016 - accuracy: 0.7985 - val_loss: 0.2039 - val_accuracy: 0.7962\n",
      "Epoch 33/100\n",
      "469/469 [==============================] - 0s 929us/step - loss: 0.2016 - accuracy: 0.7985 - val_loss: 0.2039 - val_accuracy: 0.7962\n",
      "Epoch 34/100\n",
      "469/469 [==============================] - 0s 890us/step - loss: 0.2017 - accuracy: 0.7985 - val_loss: 0.2039 - val_accuracy: 0.7962\n",
      "Epoch 35/100\n",
      "469/469 [==============================] - 1s 1ms/step - loss: 0.2016 - accuracy: 0.7985 - val_loss: 0.2040 - val_accuracy: 0.7962\n",
      "Epoch 36/100\n",
      "469/469 [==============================] - 0s 911us/step - loss: 0.2017 - accuracy: 0.7985 - val_loss: 0.2040 - val_accuracy: 0.7962\n",
      "Epoch 37/100\n",
      "469/469 [==============================] - 0s 904us/step - loss: 0.2017 - accuracy: 0.7985 - val_loss: 0.2038 - val_accuracy: 0.7962\n",
      "Epoch 38/100\n",
      "469/469 [==============================] - 0s 872us/step - loss: 0.2016 - accuracy: 0.7985 - val_loss: 0.2040 - val_accuracy: 0.7962\n",
      "Epoch 39/100\n",
      "469/469 [==============================] - 1s 1ms/step - loss: 0.2016 - accuracy: 0.7985 - val_loss: 0.2039 - val_accuracy: 0.7962\n",
      "Epoch 40/100\n",
      "469/469 [==============================] - 1s 1ms/step - loss: 0.2016 - accuracy: 0.7985 - val_loss: 0.2039 - val_accuracy: 0.7962\n",
      "Epoch 41/100\n",
      "469/469 [==============================] - 0s 895us/step - loss: 0.2017 - accuracy: 0.7985 - val_loss: 0.2040 - val_accuracy: 0.7962\n",
      "Epoch 42/100\n",
      "469/469 [==============================] - 0s 933us/step - loss: 0.2017 - accuracy: 0.7985 - val_loss: 0.2038 - val_accuracy: 0.7962\n",
      "Epoch 43/100\n",
      "469/469 [==============================] - 0s 940us/step - loss: 0.2017 - accuracy: 0.7985 - val_loss: 0.2039 - val_accuracy: 0.7962\n",
      "Epoch 44/100\n",
      "469/469 [==============================] - 0s 935us/step - loss: 0.2017 - accuracy: 0.7985 - val_loss: 0.2038 - val_accuracy: 0.7962\n",
      "Epoch 45/100\n",
      "469/469 [==============================] - 0s 918us/step - loss: 0.2017 - accuracy: 0.7985 - val_loss: 0.2039 - val_accuracy: 0.7962\n",
      "Epoch 46/100\n",
      "469/469 [==============================] - 0s 913us/step - loss: 0.2017 - accuracy: 0.7985 - val_loss: 0.2039 - val_accuracy: 0.7962\n",
      "Epoch 47/100\n",
      "469/469 [==============================] - 0s 918us/step - loss: 0.2016 - accuracy: 0.7985 - val_loss: 0.2040 - val_accuracy: 0.7962\n",
      "Epoch 48/100\n",
      "469/469 [==============================] - 0s 904us/step - loss: 0.2016 - accuracy: 0.7985 - val_loss: 0.2038 - val_accuracy: 0.7962\n",
      "Epoch 49/100\n",
      "469/469 [==============================] - 0s 868us/step - loss: 0.2016 - accuracy: 0.7985 - val_loss: 0.2038 - val_accuracy: 0.7962\n",
      "Epoch 50/100\n",
      "469/469 [==============================] - 0s 910us/step - loss: 0.2017 - accuracy: 0.7985 - val_loss: 0.2039 - val_accuracy: 0.7962\n",
      "Epoch 51/100\n",
      "469/469 [==============================] - 0s 886us/step - loss: 0.2016 - accuracy: 0.7985 - val_loss: 0.2038 - val_accuracy: 0.7962\n",
      "Epoch 52/100\n",
      "469/469 [==============================] - 0s 888us/step - loss: 0.2017 - accuracy: 0.7985 - val_loss: 0.2038 - val_accuracy: 0.7962\n",
      "Epoch 53/100\n",
      "469/469 [==============================] - 0s 936us/step - loss: 0.2016 - accuracy: 0.7985 - val_loss: 0.2039 - val_accuracy: 0.7962\n",
      "Epoch 54/100\n",
      "469/469 [==============================] - 0s 908us/step - loss: 0.2017 - accuracy: 0.7985 - val_loss: 0.2039 - val_accuracy: 0.7962\n",
      "Epoch 55/100\n",
      "469/469 [==============================] - 0s 898us/step - loss: 0.2016 - accuracy: 0.7985 - val_loss: 0.2042 - val_accuracy: 0.7962\n",
      "Epoch 56/100\n",
      "469/469 [==============================] - 0s 893us/step - loss: 0.2017 - accuracy: 0.7985 - val_loss: 0.2040 - val_accuracy: 0.7962\n",
      "Epoch 57/100\n"
     ]
    },
    {
     "name": "stdout",
     "output_type": "stream",
     "text": [
      "469/469 [==============================] - 0s 866us/step - loss: 0.2017 - accuracy: 0.7985 - val_loss: 0.2040 - val_accuracy: 0.7962\n",
      "Epoch 58/100\n",
      "469/469 [==============================] - 0s 863us/step - loss: 0.2017 - accuracy: 0.7985 - val_loss: 0.2040 - val_accuracy: 0.7962\n",
      "Epoch 59/100\n",
      "469/469 [==============================] - 0s 911us/step - loss: 0.2016 - accuracy: 0.7985 - val_loss: 0.2039 - val_accuracy: 0.7962\n",
      "Epoch 60/100\n",
      "469/469 [==============================] - 0s 886us/step - loss: 0.2016 - accuracy: 0.7985 - val_loss: 0.2040 - val_accuracy: 0.7962\n",
      "Epoch 61/100\n",
      "469/469 [==============================] - 0s 845us/step - loss: 0.2016 - accuracy: 0.7985 - val_loss: 0.2040 - val_accuracy: 0.7962\n",
      "Epoch 62/100\n",
      "469/469 [==============================] - 0s 940us/step - loss: 0.2017 - accuracy: 0.7985 - val_loss: 0.2041 - val_accuracy: 0.7962\n",
      "Epoch 63/100\n",
      "469/469 [==============================] - ETA: 0s - loss: 0.2032 - accuracy: 0.79 - 1s 1ms/step - loss: 0.2017 - accuracy: 0.7985 - val_loss: 0.2038 - val_accuracy: 0.7962\n",
      "Epoch 64/100\n",
      "469/469 [==============================] - 0s 988us/step - loss: 0.2017 - accuracy: 0.7985 - val_loss: 0.2040 - val_accuracy: 0.7962\n",
      "Epoch 65/100\n",
      "469/469 [==============================] - 0s 875us/step - loss: 0.2017 - accuracy: 0.7985 - val_loss: 0.2039 - val_accuracy: 0.7962\n",
      "Epoch 66/100\n",
      "469/469 [==============================] - 0s 869us/step - loss: 0.2017 - accuracy: 0.7985 - val_loss: 0.2039 - val_accuracy: 0.7962\n",
      "Epoch 67/100\n",
      "469/469 [==============================] - 0s 853us/step - loss: 0.2017 - accuracy: 0.7985 - val_loss: 0.2040 - val_accuracy: 0.7962\n",
      "Epoch 68/100\n",
      "469/469 [==============================] - 0s 858us/step - loss: 0.2016 - accuracy: 0.7985 - val_loss: 0.2040 - val_accuracy: 0.7962\n",
      "Epoch 69/100\n",
      "469/469 [==============================] - 0s 948us/step - loss: 0.2017 - accuracy: 0.7985 - val_loss: 0.2039 - val_accuracy: 0.7962\n",
      "Epoch 70/100\n",
      "469/469 [==============================] - 0s 942us/step - loss: 0.2017 - accuracy: 0.7985 - val_loss: 0.2038 - val_accuracy: 0.7962\n",
      "Epoch 71/100\n",
      "469/469 [==============================] - 0s 900us/step - loss: 0.2016 - accuracy: 0.7985 - val_loss: 0.2039 - val_accuracy: 0.7962\n",
      "Epoch 72/100\n",
      "469/469 [==============================] - 1s 1ms/step - loss: 0.2017 - accuracy: 0.7985 - val_loss: 0.2039 - val_accuracy: 0.7962\n",
      "Epoch 73/100\n",
      "469/469 [==============================] - 0s 862us/step - loss: 0.2016 - accuracy: 0.7985 - val_loss: 0.2038 - val_accuracy: 0.7962\n",
      "Epoch 74/100\n",
      "469/469 [==============================] - 0s 860us/step - loss: 0.2016 - accuracy: 0.7985 - val_loss: 0.2038 - val_accuracy: 0.7962\n",
      "Epoch 75/100\n",
      "469/469 [==============================] - 0s 896us/step - loss: 0.2016 - accuracy: 0.7985 - val_loss: 0.2041 - val_accuracy: 0.7962\n",
      "Epoch 76/100\n",
      "469/469 [==============================] - 0s 896us/step - loss: 0.2016 - accuracy: 0.7985 - val_loss: 0.2038 - val_accuracy: 0.7962\n",
      "Epoch 77/100\n",
      "469/469 [==============================] - 0s 887us/step - loss: 0.2016 - accuracy: 0.7985 - val_loss: 0.2038 - val_accuracy: 0.7962\n",
      "Epoch 78/100\n",
      "469/469 [==============================] - 0s 1ms/step - loss: 0.2016 - accuracy: 0.7985 - val_loss: 0.2041 - val_accuracy: 0.7962\n",
      "Epoch 79/100\n",
      "469/469 [==============================] - 0s 1ms/step - loss: 0.2016 - accuracy: 0.7985 - val_loss: 0.2038 - val_accuracy: 0.7962\n",
      "Epoch 80/100\n",
      "469/469 [==============================] - 1s 1ms/step - loss: 0.2016 - accuracy: 0.7985 - val_loss: 0.2041 - val_accuracy: 0.7962\n",
      "Epoch 81/100\n",
      "469/469 [==============================] - 0s 1ms/step - loss: 0.2017 - accuracy: 0.7985 - val_loss: 0.2041 - val_accuracy: 0.7962\n",
      "Epoch 82/100\n",
      "469/469 [==============================] - 0s 865us/step - loss: 0.2017 - accuracy: 0.7985 - val_loss: 0.2040 - val_accuracy: 0.7962\n",
      "Epoch 83/100\n",
      "469/469 [==============================] - 0s 877us/step - loss: 0.2017 - accuracy: 0.7985 - val_loss: 0.2039 - val_accuracy: 0.7962\n",
      "Epoch 84/100\n",
      "469/469 [==============================] - 1s 1ms/step - loss: 0.2016 - accuracy: 0.7985 - val_loss: 0.2039 - val_accuracy: 0.7962\n",
      "Epoch 85/100\n",
      "469/469 [==============================] - 0s 971us/step - loss: 0.2016 - accuracy: 0.7985 - val_loss: 0.2038 - val_accuracy: 0.7962\n",
      "Epoch 86/100\n",
      "469/469 [==============================] - 0s 1ms/step - loss: 0.2017 - accuracy: 0.7985 - val_loss: 0.2040 - val_accuracy: 0.7962\n",
      "Epoch 87/100\n",
      "469/469 [==============================] - 0s 1ms/step - loss: 0.2016 - accuracy: 0.7985 - val_loss: 0.2041 - val_accuracy: 0.7962\n",
      "Epoch 88/100\n",
      "469/469 [==============================] - 1s 1ms/step - loss: 0.2017 - accuracy: 0.7985 - val_loss: 0.2041 - val_accuracy: 0.7962\n",
      "Epoch 89/100\n",
      "469/469 [==============================] - 0s 1ms/step - loss: 0.2017 - accuracy: 0.7985 - val_loss: 0.2040 - val_accuracy: 0.7962\n",
      "Epoch 90/100\n",
      "469/469 [==============================] - 0s 872us/step - loss: 0.2017 - accuracy: 0.7985 - val_loss: 0.2039 - val_accuracy: 0.7962\n",
      "Epoch 91/100\n",
      "469/469 [==============================] - 0s 1ms/step - loss: 0.2017 - accuracy: 0.7985 - val_loss: 0.2041 - val_accuracy: 0.7962\n",
      "Epoch 92/100\n",
      "469/469 [==============================] - 1s 1ms/step - loss: 0.2017 - accuracy: 0.7985 - val_loss: 0.2041 - val_accuracy: 0.7962\n",
      "Epoch 93/100\n",
      "469/469 [==============================] - 1s 1ms/step - loss: 0.2016 - accuracy: 0.7985 - val_loss: 0.2039 - val_accuracy: 0.7962\n",
      "Epoch 94/100\n",
      "469/469 [==============================] - 1s 1ms/step - loss: 0.2017 - accuracy: 0.7985 - val_loss: 0.2040 - val_accuracy: 0.7962\n",
      "Epoch 95/100\n",
      "469/469 [==============================] - 0s 884us/step - loss: 0.2016 - accuracy: 0.7985 - val_loss: 0.2039 - val_accuracy: 0.7962\n",
      "Epoch 96/100\n",
      "469/469 [==============================] - 0s 1ms/step - loss: 0.2016 - accuracy: 0.7985 - val_loss: 0.2040 - val_accuracy: 0.7962\n",
      "Epoch 97/100\n",
      "469/469 [==============================] - 1s 1ms/step - loss: 0.2017 - accuracy: 0.7985 - val_loss: 0.2039 - val_accuracy: 0.7962\n",
      "Epoch 98/100\n",
      "469/469 [==============================] - 0s 1ms/step - loss: 0.2017 - accuracy: 0.7985 - val_loss: 0.2039 - val_accuracy: 0.7962\n",
      "Epoch 99/100\n",
      "469/469 [==============================] - 0s 925us/step - loss: 0.2016 - accuracy: 0.7985 - val_loss: 0.2039 - val_accuracy: 0.7962\n",
      "Epoch 100/100\n",
      "469/469 [==============================] - 0s 936us/step - loss: 0.2017 - accuracy: 0.7985 - val_loss: 0.2039 - val_accuracy: 0.7962\n"
     ]
    }
   ],
   "source": [
    "model=best_model.fit(X_train, y_train, validation_split=0.33, batch_size=10, epochs=100)"
   ]
  },
  {
   "cell_type": "code",
   "execution_count": 212,
   "metadata": {},
   "outputs": [
    {
     "data": {
      "text/plain": [
       "array([[False],\n",
       "       [False],\n",
       "       [False],\n",
       "       ...,\n",
       "       [False],\n",
       "       [False],\n",
       "       [False]])"
      ]
     },
     "execution_count": 212,
     "metadata": {},
     "output_type": "execute_result"
    }
   ],
   "source": [
    "y_pred2 = best_model.predict(X_test)\n",
    "y_pred2 = (y_pred2>0.5)\n",
    "y_pred2"
   ]
  },
  {
   "cell_type": "code",
   "execution_count": 213,
   "metadata": {},
   "outputs": [
    {
     "data": {
      "text/plain": [
       "0.793"
      ]
     },
     "execution_count": 213,
     "metadata": {},
     "output_type": "execute_result"
    }
   ],
   "source": [
    "score=accuracy_score(y_pred,y_test)\n",
    "score"
   ]
  },
  {
   "cell_type": "code",
   "execution_count": 214,
   "metadata": {},
   "outputs": [
    {
     "data": {
      "text/plain": [
       "array([[2379,    0],\n",
       "       [ 621,    0]], dtype=int64)"
      ]
     },
     "execution_count": 214,
     "metadata": {},
     "output_type": "execute_result"
    }
   ],
   "source": [
    "from sklearn.metrics import confusion_matrix\n",
    "confusion_matrix(y_test, y_pred2)"
   ]
  },
  {
   "cell_type": "code",
   "execution_count": 216,
   "metadata": {},
   "outputs": [
    {
     "data": {
      "text/plain": [
       "array([[False],\n",
       "       [False],\n",
       "       [False],\n",
       "       ...,\n",
       "       [False],\n",
       "       [False],\n",
       "       [False]])"
      ]
     },
     "execution_count": 216,
     "metadata": {},
     "output_type": "execute_result"
    }
   ],
   "source": [
    "y_pred2"
   ]
  },
  {
   "cell_type": "code",
   "execution_count": 215,
   "metadata": {},
   "outputs": [
    {
     "data": {
      "text/plain": [
       "(array([False]), array([3000], dtype=int64))"
      ]
     },
     "execution_count": 215,
     "metadata": {},
     "output_type": "execute_result"
    }
   ],
   "source": [
    "(unique, counts) = np.unique(y_pred, return_counts=True)\n",
    "unique,counts"
   ]
  },
  {
   "cell_type": "code",
   "execution_count": null,
   "metadata": {},
   "outputs": [],
   "source": []
  }
 ],
 "metadata": {
  "kernelspec": {
   "display_name": "Python 3",
   "language": "python",
   "name": "python3"
  },
  "language_info": {
   "codemirror_mode": {
    "name": "ipython",
    "version": 3
   },
   "file_extension": ".py",
   "mimetype": "text/x-python",
   "name": "python",
   "nbconvert_exporter": "python",
   "pygments_lexer": "ipython3",
   "version": "3.9.0"
  }
 },
 "nbformat": 4,
 "nbformat_minor": 5
}
